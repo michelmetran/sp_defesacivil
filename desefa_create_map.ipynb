{
 "cells": [
  {
   "cell_type": "markdown",
   "id": "organizational-wednesday",
   "metadata": {},
   "source": [
    "# Introdução"
   ]
  },
  {
   "cell_type": "code",
   "execution_count": null,
   "id": "geological-investigator",
   "metadata": {},
   "outputs": [],
   "source": [
    "import os\n",
    "import re\n",
    "import time\n",
    "import json\n",
    "import folium\n",
    "import random\n",
    "import requests\n",
    "import numpy as np\n",
    "import pandas as pd\n",
    "import seaborn as sns\n",
    "import geopandas as gpd\n",
    "from folium import plugins\n",
    "from osgeo import gdal, osr\n",
    "from bs4 import BeautifulSoup\n",
    "from tqdm.notebook import trange, tqdm"
   ]
  },
  {
   "cell_type": "markdown",
   "id": "authorized-pollution",
   "metadata": {},
   "source": [
    "<br>\n",
    "\n",
    "# Join Data"
   ]
  },
  {
   "cell_type": "code",
   "execution_count": null,
   "id": "extra-permission",
   "metadata": {},
   "outputs": [],
   "source": [
    "# Lê o arquivo csv com o nome dos municípios\n",
    "df = pd.read_csv(\n",
    "    'https://raw.githubusercontent.com/michelmetran/sp_defesacivil/main/data/tabs/tab_municipio_defesacivil.csv',\n",
    ")\n",
    "\n",
    "# Lê o arquivo csv com o nome dos municípios\n",
    "gdf = gpd.read_file(\n",
    "    'https://raw.githubusercontent.com/michelmetran/sp/main/data/shps/sp_250k_wgs84.geojson',\n",
    ")\n",
    "gdf.drop(['municipio_nome'], axis=1, inplace=True)\n",
    "gdf['id_municipio'] = gdf['id_municipio'].astype(int)\n",
    "gdf['geometry'] = gdf.simplify(0.0015)\n",
    "\n",
    "# Merge\n",
    "gdf = gdf.merge(\n",
    "    df,\n",
    "    on='id_municipio',\n",
    "    how='left'\n",
    ")\n",
    "\n",
    "# Results\n",
    "gdf.head()"
   ]
  },
  {
   "cell_type": "markdown",
   "id": "opponent-internship",
   "metadata": {},
   "source": [
    "<br>\n",
    "\n",
    "## Create pop up's column"
   ]
  },
  {
   "cell_type": "code",
   "execution_count": null,
   "id": "virtual-arthritis",
   "metadata": {},
   "outputs": [],
   "source": [
    "# Add Field\n",
    "def popup_html(row):\n",
    "    tel_0 = str(row['coord_regional_tel']).replace('-', '').replace(')', '').replace('(', '+55').replace(' ', '')\n",
    "    tel_1 = str(row['coord_adj1_tel']).replace('-', '').replace(')', '').replace('(', '+55').replace(' ', '')\n",
    "    tel_2 = str(row['coord_adj2_tel']).replace('-', '').replace(')', '').replace('(', '+55').replace(' ', '')\n",
    "    tel_3 = str(row['coord_adj3_tel']).replace('-', '').replace(')', '').replace('(', '+55').replace(' ', '')\n",
    "    tel_4 = str(row['coord_adj4_tel']).replace('-', '').replace(')', '').replace('(', '+55').replace(' ', '')\n",
    "    tel_5 = str(row['coord_adj5_tel']).replace('-', '').replace(')', '').replace('(', '+55').replace(' ', '')\n",
    "    tel_6 = str(row['coord_adj6_tel']).replace('-', '').replace(')', '').replace('(', '+55').replace(' ', '')\n",
    "    tel_7 = str(row['coord_adj7_tel']).replace('-', '').replace(')', '').replace('(', '+55').replace(' ', '')\n",
    "    \n",
    "    \n",
    "    html = \"\"\"\n",
    "    <div>\n",
    "    <p><b>{}</b> pertence à:\n",
    "    <h4>REPDEC de <b>{}</b></h4></p>\n",
    "    <p><b>Coordenador:</b><br>\n",
    "    {}<br>\n",
    "    {}<br>\n",
    "    {}<br>\n",
    "    <br>\n",
    "    <a id=\"seeMore\" onclick=\"toggleSeeMore()\" href=\"javascript:void(0);\">Outros Coordenadores</a><p>    \n",
    "    <p id=\"textarea\" style=\"display: none\">\n",
    "    Coordenador Adjunto #01<br>\n",
    "    Coordenador Adjunto #02<br>\n",
    "    Coordenador Adjunto #03<br>\n",
    "    Coordenador Adjunto #04<br>\n",
    "    Coordenador Adjunto #05<br>\n",
    "    Coordenador Adjunto #06<br>\n",
    "    Coordenador Adjunto #07<br>\n",
    "    </p>\n",
    "    \n",
    "    </div>\n",
    "    \"\"\".format(\n",
    "        '' if row['municipio_nome'] is np.NaN else '{}'.format(row['municipio_nome']),\n",
    "        '' if row['repdec_regiao'] is np.NaN else '{}'.format(row['repdec_regiao']),\n",
    "        '' if row['coord_regional_nome'] is np.NaN else '{}'.format(row['coord_regional_nome']),\n",
    "        '' if row['coord_regional_mail'] is np.NaN else 'E-mail: <a href=\"mailto:{}\">{}</a>'.format(row['coord_regional_mail'], row['coord_regional_mail']),\n",
    "        '' if row['coord_regional_tel'] is np.NaN else 'Telefone: <a href=\"tel:{}\">{}</a>'.format(tel_0, row['coord_regional_tel']),\n",
    "    )\n",
    "    \n",
    "    html = html.replace('\\n','')    \n",
    "    html = re.sub('\\s\\s+' , ' ', html) # Remove Espaços no meio\n",
    "    html = html.strip()\n",
    "    return html"
   ]
  },
  {
   "cell_type": "code",
   "execution_count": null,
   "id": "forced-expression",
   "metadata": {},
   "outputs": [],
   "source": [
    "# Calculate PopUps\n",
    "gdf['popup'] = gdf.apply(popup_html, axis=1)"
   ]
  },
  {
   "cell_type": "markdown",
   "id": "naked-business",
   "metadata": {},
   "source": [
    "<br>\n",
    "\n",
    "## Adjust Table"
   ]
  },
  {
   "cell_type": "code",
   "execution_count": null,
   "id": "unlikely-cigarette",
   "metadata": {},
   "outputs": [],
   "source": [
    "# Delete Columns\n",
    "gdf.drop([\n",
    "    'id_municipio', 'repdec_nome', \n",
    "    'coord_regional_nome', 'coord_regional_mail', 'coord_regional_tel',\n",
    "    'coord_adj1_nome', 'coord_adj1_mail', 'coord_adj1_tel',\n",
    "    'coord_adj2_nome', 'coord_adj2_mail', 'coord_adj2_tel',\n",
    "    'coord_adj3_nome', 'coord_adj3_mail', 'coord_adj3_tel',\n",
    "    'coord_adj4_nome', 'coord_adj4_mail', 'coord_adj4_tel',\n",
    "    'coord_adj5_nome', 'coord_adj5_mail', 'coord_adj5_tel',\n",
    "    'coord_adj6_nome', 'coord_adj6_mail', 'coord_adj6_tel',\n",
    "    'coord_adj7_nome', 'coord_adj7_mail', 'coord_adj7_tel',\n",
    "], axis=1, inplace=True)\n",
    "print(gdf.columns)\n",
    "\n",
    "# Save geojson\n",
    "gdf.to_file(\n",
    "    os.path.join('data', 'shps', 'sp_defesacivil.geojson'),\n",
    "    driver='GeoJSON',\n",
    "    encoding='utf-8'\n",
    ")\n",
    "\n",
    "# Results\n",
    "gdf.head()"
   ]
  },
  {
   "cell_type": "markdown",
   "id": "desirable-carrier",
   "metadata": {},
   "source": [
    "## Get Centroid"
   ]
  },
  {
   "cell_type": "code",
   "execution_count": null,
   "id": "english-entry",
   "metadata": {},
   "outputs": [],
   "source": [
    "def get_centroid(gdf):\n",
    "    gdf['apenasparacentroid'] = 35\n",
    "    gdf_dissolve = gdf.dissolve(by='apenasparacentroid')\n",
    "    gdf_centroid = gdf_dissolve.representative_point()\n",
    "    gdf = gdf.drop('apenasparacentroid', axis=1)\n",
    "    return [float(gdf_centroid.y), float(gdf_centroid.x)]"
   ]
  },
  {
   "cell_type": "code",
   "execution_count": null,
   "id": "colonial-record",
   "metadata": {},
   "outputs": [],
   "source": [
    "list_centroid = get_centroid(gdf)\n",
    "list_centroid"
   ]
  },
  {
   "cell_type": "markdown",
   "id": "optical-tucson",
   "metadata": {},
   "source": [
    "## Folium"
   ]
  },
  {
   "cell_type": "code",
   "execution_count": null,
   "id": "violent-violence",
   "metadata": {},
   "outputs": [],
   "source": [
    "def map_bomb(input_geojson, bbox):\n",
    "    gdf = gpd.read_file(input_geojson)\n",
    "    \n",
    "    # Column with category\n",
    "    col_categories = 'repdec_regiao'\n",
    "    \n",
    "    # Set palette\n",
    "    palette_polygon = 'Paired'\n",
    "\n",
    "    # Get list of unique values\n",
    "    categories = set(gdf[col_categories])\n",
    "    categories = list(categories)\n",
    "    categories.sort()\n",
    "\n",
    "    # See the palette chosed\n",
    "    pal = sns.color_palette(palette_polygon, n_colors=len(categories))\n",
    "\n",
    "    # Set dictionary\n",
    "    color_polygon = dict(zip(categories, pal.as_hex()))\n",
    "\n",
    "    # Create Map\n",
    "    m = folium.Map(\n",
    "        location=[-22.545968889465207, -49.56185387118866],\n",
    "        zoom_start=6,\n",
    "        min_zoom=6,\n",
    "        max_zoom=11,\n",
    "        max_bounds=True,\n",
    "        min_lon = bbox['min_lon']*(101/100),\n",
    "        max_lon = bbox['max_lon']*(99/100),        \n",
    "        min_lat = bbox['min_lat']*(101/100),\n",
    "        max_lat = bbox['max_lat']*(99/100),\n",
    "        #zoom_delta=0.1,\n",
    "    )\n",
    "    folium.GeoJson(\n",
    "        gdf,\n",
    "        name='Defesa Civil',\n",
    "        smooth_factor=1.0,\n",
    "        zoom_on_click=False,\n",
    "        embed=False,\n",
    "        style_function=lambda x: {\n",
    "            'fillColor': color_polygon[x['properties'][col_categories]],\n",
    "            'color': color_polygon[x['properties'][col_categories]],\n",
    "            'weight': 1,\n",
    "            'fillOpacity': 0.3,\n",
    "        },\n",
    "        highlight_function=lambda x: {\n",
    "            'weight': 3,\n",
    "            'fillOpacity': 0.6,\n",
    "        },\n",
    "        tooltip=folium.features.GeoJsonTooltip(\n",
    "            fields=['municipio_nome', 'repdec_regiao'],\n",
    "            aliases=['Munícipio', 'REPDEC'],\n",
    "            sticky=True,\n",
    "            opacity=0.9,\n",
    "            direction='right',\n",
    "        ),\n",
    "        popup=folium.GeoJsonPopup(\n",
    "            ['popup'],\n",
    "            parse_html=False,\n",
    "            max_width='300',\n",
    "            show=False,\n",
    "            labels=False,\n",
    "            sticky=True,            \n",
    "        )        \n",
    "    ).add_to(m)\n",
    "\n",
    "    # Plugins\n",
    "    m.fit_bounds(m.get_bounds())\n",
    "    plugins.Fullscreen(\n",
    "        position='topleft',\n",
    "        title='Clique para Maximizar',\n",
    "        title_cancel='Mininizar',\n",
    "    ).add_to(m)\n",
    "    return m"
   ]
  },
  {
   "cell_type": "code",
   "execution_count": null,
   "id": "twelve-atlas",
   "metadata": {},
   "outputs": [],
   "source": [
    "# Map without Bounds\n",
    "bbox = {\n",
    "    'max_lat': 0,\n",
    "    'max_lon': 0,\n",
    "    'min_lat': 0,\n",
    "    'min_lon': 0,\n",
    "}\n",
    "m = map_bomb(os.path.join('data', 'shps', 'sp_defesacivil.geojson'), bbox)\n",
    "\n",
    "# Map with Bounds\n",
    "bbox = {\n",
    "    'max_lat': m.get_bounds()[1][0],\n",
    "    'min_lat': m.get_bounds()[0][0],\n",
    "    'max_lon': m.get_bounds()[1][1],\n",
    "    'min_lon': m.get_bounds()[0][1],\n",
    "}\n",
    "m = map_bomb(os.path.join('data', 'shps', 'sp_defesacivil.geojson'), bbox)\n",
    "\n",
    "# Results\n",
    "print(bbox)\n",
    "m"
   ]
  },
  {
   "cell_type": "code",
   "execution_count": null,
   "id": "interested-hanging",
   "metadata": {},
   "outputs": [],
   "source": [
    "def add_script(map_folium):\n",
    "    \"\"\"\n",
    "    \"\"\"\n",
    "    import folium\n",
    "    import branca as bc\n",
    "    \n",
    "    # Header to Add\n",
    "    head = \"\"\"\n",
    "    {% macro header(this, kwargs) %}\n",
    "    <script>\n",
    "    function toggleSeeMore() {\n",
    "    if(document.getElementById(\"textarea\").style.display == 'none') {\n",
    "    document.getElementById(\"textarea\").style.display = 'block';\n",
    "    document.getElementById(\"seeMore\").innerHTML = '...';\n",
    "    }\n",
    "    else {\n",
    "    document.getElementById(\"textarea\").style.display = 'none';\n",
    "    document.getElementById(\"seeMore\").innerHTML = 'Outros coordenadores';\n",
    "    }\n",
    "    }\n",
    "    </script>\n",
    "    {% endmacro %}\n",
    "    \"\"\"\n",
    "    \n",
    "    # Add Header\n",
    "    macro = bc.element.MacroElement()\n",
    "    macro._template = bc.element.Template(head)\n",
    "    map_folium.get_root().add_child(macro)\n",
    "    return map_folium"
   ]
  },
  {
   "cell_type": "code",
   "execution_count": null,
   "id": "underlying-fetish",
   "metadata": {},
   "outputs": [],
   "source": [
    "m = add_script(m)\n",
    "m"
   ]
  },
  {
   "cell_type": "markdown",
   "id": "subjective-diagnosis",
   "metadata": {},
   "source": [
    "<br>\n",
    "\n",
    "# Save Map"
   ]
  },
  {
   "cell_type": "code",
   "execution_count": null,
   "id": "imperial-liechtenstein",
   "metadata": {},
   "outputs": [],
   "source": [
    "os.makedirs('maps', exist_ok=True)\n",
    "m.save(os.path.join('maps', 'defesacivil_map.html'))\n",
    "m.save(os.path.join('..', '..', '..', 'case_django', 'divadmin', 'templates', 'defesacivil_map.html'))"
   ]
  },
  {
   "cell_type": "code",
   "execution_count": null,
   "id": "expired-chain",
   "metadata": {},
   "outputs": [],
   "source": []
  }
 ],
 "metadata": {
  "kernelspec": {
   "display_name": "Python [conda env:pablocarreira-py38] *",
   "language": "python",
   "name": "conda-env-pablocarreira-py38-py"
  },
  "language_info": {
   "codemirror_mode": {
    "name": "ipython",
    "version": 3
   },
   "file_extension": ".py",
   "mimetype": "text/x-python",
   "name": "python",
   "nbconvert_exporter": "python",
   "pygments_lexer": "ipython3",
   "version": "3.8.8"
  },
  "toc-autonumbering": true
 },
 "nbformat": 4,
 "nbformat_minor": 5
}

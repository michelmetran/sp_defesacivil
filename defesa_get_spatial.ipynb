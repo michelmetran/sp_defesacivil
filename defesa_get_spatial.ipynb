{
 "cells": [
  {
   "cell_type": "markdown",
   "metadata": {},
   "source": [
    "# Introdução\n",
    "\n",
    "*Script* que cria uma tabela que apresenta informações das *Coordenadorias Regionais de Proteção e Defesa Civil - **REPDEC*** da Defesa Civil que atuam nos 645 município deo Estado de São Paulo."
   ]
  },
  {
   "cell_type": "code",
   "execution_count": null,
   "metadata": {},
   "outputs": [],
   "source": [
    "import os\n",
    "import time\n",
    "import random\n",
    "import shutil\n",
    "import requests\n",
    "\n",
    "import numpy as np\n",
    "import urllib.parse\n",
    "import pandas as pd\n",
    "import geopandas as gpd\n",
    "\n",
    "from osgeo import ogr\n",
    "from bs4 import BeautifulSoup\n",
    "from zipfile import ZipFile\n",
    "from pdf2jpg import pdf2jpg\n",
    "from osgeo import gdal, osr\n",
    "from tqdm.notebook import trange, tqdm\n",
    "from PyPDF2 import PdfFileReader, PdfFileWriter"
   ]
  },
  {
   "cell_type": "code",
   "execution_count": null,
   "metadata": {},
   "outputs": [],
   "source": [
    "#!pip install PyPDF2\n",
    "#!pip install pdf2jpg"
   ]
  },
  {
   "cell_type": "markdown",
   "metadata": {},
   "source": [
    "# Dados Espaciais: PDF"
   ]
  },
  {
   "cell_type": "markdown",
   "metadata": {},
   "source": [
    "## *Download*\n",
    "\n",
    "Inicialmente foi feito o download da [monografia](http://www.sidec.sp.gov.br/defesacivil/media/OSDownloads/1398863063_Monografia%20Cap%20PM%20Rudyard.pdf)  desenvolvida pelo Capitão da PM, Rudyard Panzarini Paiva, em 2013, com o título *'Regulamentação dos Critérios para Homologação das Situações de Anormalidade no Estado de São Paulo'*, elaborado para concluir o 'Curso de Aperfeiçoamento de Oficiais – II/2012'.\n",
    "\n",
    "Na monografia, na página 33, é apresentado o mapa com as áreas de abrangência de cada que Indicações sobre a área de atuação de cada Coordenadorias Regionais de Proteção e Defesa Civil - REPDEC, além disso é informado que:\n",
    "\n",
    "```\n",
    "As jurisdições das Coordenadorias Regionais de Proteção e Defesa Civil acompanham as Regiões Administrativas do Estado de São Paulo, porém majoradas para 19, pois foram acrescentadas as regiões do ABCDMRR, Guarulhos e Osasco.\n",
    "```\n",
    "\n",
    "Pesquisando informaçãoes sobre a sigla mencionada, encontrou que:\n",
    "```\n",
    "ABC Paulista, Região do Grande ABC, ABC ou ainda ABCD, é uma região tradicionalmente industrial do estado de São Paulo, parte da Região Metropolitana de São Paulo, porém com identidade própria. A sigla vem das três cidades que, originalmente, formavam a região, sendo: Santo André (A), São Bernardo do Campo (B) e São Caetano do Sul (C). Às vezes, Diadema (D) é incluída na sigla.\n",
    "\n",
    "É relativamente comum encontrar também ABCDMRR que também inclui os municípios de Mauá, Ribeirão Pires e Rio Grande da Serra.\n",
    "```"
   ]
  },
  {
   "cell_type": "code",
   "execution_count": null,
   "metadata": {},
   "outputs": [],
   "source": [
    "def download_urls(urls, path, GetFilenameFromURL=True):\n",
    "    \"\"\"\n",
    "    Function to download list of files with a progress bar.\n",
    "    :param urls: Lista ou tuple, a depender da função #\n",
    "    :param path: Local onde os arquivos serão inseridos\n",
    "    :param GetFilenameFromURL: Se VERDADEIRO, a função irá nomear o arquivo conforme o link das lista das URLs.\n",
    "    Se FALSO, a função irá nomear o arquivo conforme string definida no tuple das URLs\n",
    "    \"\"\"\n",
    "    \n",
    "    # Reset Interactions\n",
    "    i = 0\n",
    "    n_urls = len(urls)\n",
    "\n",
    "    for n_url in trange(n_urls, desc='Total'):\n",
    "        # Download path and file name\n",
    "        if GetFilenameFromURL:\n",
    "            url = urls[i]\n",
    "            filename = urls[i].rsplit('/', 1)[1]\n",
    "        else:\n",
    "            url = urls[i][0]\n",
    "            filename = urls[i][1]\n",
    "\n",
    "        # File size\n",
    "        r = requests.get(url, stream=True)\n",
    "        chunk_size = 1024 * 1024\n",
    "        total_size = int(r.headers['content-length'])\n",
    "\n",
    "        # Download the file from 'url' and save it locally under 'filename'\n",
    "        with open(os.path.join(path, filename), 'wb') as f:\n",
    "            for data in tqdm(\n",
    "                iterable = r.iter_content(chunk_size=chunk_size),\n",
    "                total = int(total_size/chunk_size),\n",
    "                unit = 'MB',\n",
    "                desc = '{}/{}'.format(str(i+1), str(n_urls))):\n",
    "                f.write(data)\n",
    "\n",
    "        # Interactions\n",
    "        i = i+1\n",
    "\n",
    "        # Definir um intervalo de tempo\n",
    "        time.sleep(random.randint(1, 3))"
   ]
  },
  {
   "cell_type": "code",
   "execution_count": null,
   "metadata": {},
   "outputs": [],
   "source": [
    "url = 'http://www.sidec.sp.gov.br/defesacivil/media/OSDownloads/1398863063_Monografia%20Cap%20PM%20Rudyard.pdf'\n",
    "filename= '2013 - Regulamentação dos critérios.pdf'\n",
    "tuple_pdf = [(url, filename)]"
   ]
  },
  {
   "cell_type": "code",
   "execution_count": null,
   "metadata": {},
   "outputs": [],
   "source": [
    "download_urls(tuple_pdf, 'docs', GetFilenameFromURL=False)"
   ]
  },
  {
   "cell_type": "markdown",
   "metadata": {},
   "source": [
    "## Recortar mapa do PDF"
   ]
  },
  {
   "cell_type": "markdown",
   "metadata": {},
   "source": [
    "Uma vez com o arquivo *pdf*, selecionei apenas a página que me interessava."
   ]
  },
  {
   "cell_type": "code",
   "execution_count": null,
   "metadata": {},
   "outputs": [],
   "source": [
    "# I/O\n",
    "in_filename = os.path.join('docs', '2013 - Regulamentação dos critérios.pdf')\n",
    "out_filename = os.path.join('docs', 'temp.pdf')\n",
    "\n",
    "# Read File\n",
    "in_pdf = PdfFileReader(in_filename)\n",
    "\n",
    "# Select Pages\n",
    "pages = [33]\n",
    "\n",
    "# Create Object to output\n",
    "out_pdf = PdfFileWriter()\n",
    "\n",
    "# Loop trough pages\n",
    "for page in pages:\n",
    "    out_pdf.addPage(in_pdf.getPage(page))\n",
    "\n",
    "# Save\n",
    "with open(out_filename, 'wb') as f:\n",
    "    out_pdf.write(f)\n",
    "    f.close()"
   ]
  },
  {
   "cell_type": "markdown",
   "metadata": {},
   "source": [
    "<br>\n",
    "\n",
    "E recortei o trecho que me interessava"
   ]
  },
  {
   "cell_type": "code",
   "execution_count": null,
   "metadata": {},
   "outputs": [],
   "source": [
    "# I/O\n",
    "in_filename = os.path.join('docs', 'temp.pdf')\n",
    "out_filename = os.path.join('docs', 'mapa.pdf')\n",
    "\n",
    "with open(in_filename, 'rb') as f:\n",
    "    in_pdf = PdfFileReader(f)\n",
    "    out_pdf = PdfFileWriter()\n",
    "\n",
    "    numPages = in_pdf.getNumPages()\n",
    "    print('document has {} pages.'.format(numPages))\n",
    "\n",
    "    for i in range(numPages):\n",
    "        page = in_pdf.getPage(i)\n",
    "        print(\n",
    "            page.mediaBox.getUpperRight_x(),\n",
    "            page.mediaBox.getUpperRight_y()\n",
    "        )        \n",
    "        #page.trimBox.lowerLeft = (0, 0)\n",
    "        #page.trimBox.upperRight = (525, 625)\n",
    "        page.cropBox.lowerLeft = (130, 380)\n",
    "        page.cropBox.upperRight = (530, 700)\n",
    "        out_pdf.addPage(page)\n",
    "\n",
    "    with open(out_filename, 'wb') as out_f:\n",
    "        out_pdf.write(out_f)"
   ]
  },
  {
   "cell_type": "markdown",
   "metadata": {},
   "source": [
    "<br>\n",
    "\n",
    "Posteriormente converti para imagem."
   ]
  },
  {
   "cell_type": "code",
   "execution_count": null,
   "metadata": {},
   "outputs": [],
   "source": [
    "# to convert all pages\n",
    "result = pdf2jpg.convert_pdf2jpg(\n",
    "    os.path.join('docs', 'mapa.pdf'),\n",
    "    os.path.join('docs'),\n",
    "    pages='ALL')\n",
    "\n",
    "print(result)"
   ]
  },
  {
   "cell_type": "markdown",
   "metadata": {},
   "source": [
    "<br>\n",
    "\n",
    "Renomeie"
   ]
  },
  {
   "cell_type": "code",
   "execution_count": null,
   "metadata": {},
   "outputs": [],
   "source": [
    "os.rename(\n",
    "    result[0]['output_jpgfiles'][0],\n",
    "    os.path.join('data', 'rasters', 'mapa.jpg')    \n",
    ")"
   ]
  },
  {
   "cell_type": "markdown",
   "metadata": {},
   "source": [
    "<br>\n",
    "\n",
    "E deletei os arquivos temporários."
   ]
  },
  {
   "cell_type": "code",
   "execution_count": null,
   "metadata": {},
   "outputs": [],
   "source": [
    "os.remove(in_filename)\n",
    "os.remove(out_filename)\n",
    "shutil.rmtree(os.path.dirname(result[0]['output_jpgfiles'][0]))"
   ]
  },
  {
   "cell_type": "markdown",
   "metadata": {},
   "source": [
    "<br>\n",
    "\n",
    "## Georeferenciamento\n",
    "\n",
    "Uma vez com o mapa em mãos, em *jpg*, fiz o georreferenciamento dele."
   ]
  },
  {
   "cell_type": "code",
   "execution_count": null,
   "metadata": {},
   "outputs": [],
   "source": [
    "def georeferencing(src_filename, dst_filename, gcp_list):\n",
    "    # \n",
    "    src_ds = gdal.Open(src_filename, gdal.GA_ReadOnly)\n",
    "    driver = gdal.GetDriverByName('JPEG')\n",
    "\n",
    "    # Open destination dataset\n",
    "    dst_ds = driver.CreateCopy(dst_filename, src_ds, 0)\n",
    "\n",
    "    # Get raster projection\n",
    "    srs = osr.SpatialReference()\n",
    "    srs.ImportFromEPSG(4674)\n",
    "    dst_wkt = srs.ExportToWkt()\n",
    "\n",
    "    # Apply the GCPs to the open output file:\n",
    "    dst_ds.SetGCPs(gcp_list, dst_wkt)\n",
    "\n",
    "    # Warp Image\n",
    "    dst_ds = gdal.Warp(dst_filename, dst_ds, dstSRS=dst_wkt)\n",
    "\n",
    "    # Close files\n",
    "    src_ds = None\n",
    "    dst_ds = None\n",
    "    \n",
    "    print('Arquivo \"{}\" georreferenciado.'.format(src_filename))"
   ]
  },
  {
   "cell_type": "code",
   "execution_count": null,
   "metadata": {},
   "outputs": [],
   "source": [
    "# Interior\n",
    "gcp = []\n",
    "gcp.append(gdal.GCP(-53.08776489000207732,-22.65848512212706112,0,67.39315671031094723,734.81352291325697479))\n",
    "gcp.append(gdal.GCP(-44.1613485118776623,-22.67839016588562018,0,1613.78769435353024164,693.92426605975663279))\n",
    "gcp.append(gdal.GCP(-48.89569728207362687,-20.44167357629228476,0,784.82150163667267861,196.14571399347153147))\n",
    "gcp.append(gdal.GCP(-48.09945589998689996,-25.31233573226733213,0,943.74248158757416149,1298.82619425124539703))\n",
    "gcp.append(gdal.GCP(-46.64917183567540349,-21.36317108739623194,0,1179.87410495091262419,396.53545673078855316))\n",
    "gcp.append(gdal.GCP(-51.77248636389690262,-21.05130888861864591,0,284.51187218700169979,359.08062474429112854))\n",
    "\n",
    "georeferencing(\n",
    "    os.path.join('data', 'rasters', 'mapa.jpg'),\n",
    "    os.path.join('data', 'rasters', 'geo_defesacivil.jpg'),\n",
    "    gcp,\n",
    ")"
   ]
  },
  {
   "cell_type": "markdown",
   "metadata": {},
   "source": [
    "<br>\n",
    "\n",
    "## Spatial Join\n",
    "\n",
    "Usando o código *get_spatial_data.ipynb* foi possível baixar a malha municipal do estado de São Paulo do [*site* do IBGE](https://geoftp.ibge.gov.br/organizacao_do_territorio/malhas_territoriais/malhas_municipais/municipio_2020/UFs/SP/SP_Municipios_2020.zip). Nos códigos abaixo o arquivo *shapefile* é lido, são feitos pequenos ajustes para ter um material mais \"limpo\" para definir, manualmente, quais os \"Grupamentos de Bombeiro\" que atual em cada um dos municípios."
   ]
  },
  {
   "cell_type": "code",
   "execution_count": null,
   "metadata": {},
   "outputs": [],
   "source": [
    "# Lê o arquivo shapefile\n",
    "file = 'sp_ibge_250k'\n",
    "shp = os.path.join('data', 'shps', '{}.shp'.format(file))\n",
    "gdf = gpd.read_file(shp)\n",
    "\n",
    "# Deleta colunas\n",
    "gdf.drop(['SIGLA_UF', 'AREA_KM2'], axis=1, inplace=True)\n",
    "\n",
    "# Renomeia colunas\n",
    "gdf.rename(columns={'CD_MUN':'id_mun'}, inplace=True)\n",
    "gdf.rename(columns={'NM_MUN':'municipio'}, inplace=True)\n",
    "\n",
    "# Reordena colunas\n",
    "gdf['repdec_cod'] = 'I'\n",
    "gdf = gdf[['id_mun', 'municipio', 'repdec_cod', 'geometry']]\n",
    "\n",
    "# ATENÇÃO: SÓ EXECUTAR SE FOR REFAZER A CLASSIFICAÇÃO MANUALMENTE NO QGIS!\n",
    "#gdf.to_file(os.path.join('data', 'shps', 'div_admin.shp'), encoding='utf-8')\n",
    "\n",
    "# Results\n",
    "gdf.head()"
   ]
  },
  {
   "cell_type": "markdown",
   "metadata": {},
   "source": [
    "<br>\n",
    "\n",
    "# Dados Espaciais: DataGeo"
   ]
  },
  {
   "cell_type": "code",
   "execution_count": null,
   "metadata": {},
   "outputs": [],
   "source": [
    "def get_download(url, filename, path):\n",
    "    # Define o nome do arquivo, com diretório, que será salvo\n",
    "    zipfile = os.path.join(path, filename)\n",
    "\n",
    "    # Faz o download do arquivo da 'url' e salva localmente com o nome do arquivo\n",
    "    r = requests.get(url, stream=True)\n",
    "    with open(zipfile, 'wb') as out:\n",
    "        for chunk in r.iter_content(chunk_size=128):\n",
    "            out.write(chunk)\n",
    "    print('File \"{}\" download in \"{}\" directory.'.format(filename, path))"
   ]
  },
  {
   "cell_type": "code",
   "execution_count": null,
   "metadata": {},
   "outputs": [],
   "source": [
    "def unzip(filename, path):\n",
    "    # Get dir of zipfile\n",
    "    zipfile = os.path.join(path, filename)\n",
    "    path = os.path.dirname(zipfile)\n",
    "\n",
    "    # Create a ZipFile Object\n",
    "    with ZipFile(zipfile, 'r') as zip_obj:\n",
    "        # Get a list of all archived file names from the zip\n",
    "        list_files = []\n",
    "        list_files = zip_obj.namelist()\n",
    "\n",
    "        # Iterate over the file names\n",
    "        for file in list_files:\n",
    "            name, ext = os.path.splitext(file)\n",
    "            zip_obj.extract(file, os.path.dirname(zipfile))\n",
    "            os.rename(os.path.join(path, file), os.path.join(path, os.path.splitext(filename)[0]+ext))\n",
    "            print('File \"{}\" extracted as \"{}\" in \"{}\" directory.'.format(file, os.path.splitext(filename)[0]+ext, path))\n",
    "\n",
    "    # Remove file\n",
    "    os.remove(zipfile)"
   ]
  },
  {
   "cell_type": "code",
   "execution_count": null,
   "metadata": {},
   "outputs": [],
   "source": [
    "def rename_nome(x):\n",
    "    x = x.title()\n",
    "    x = x.strip()\n",
    "    dict_rename = {\n",
    "        '/': '-',\n",
    "        ' Do ': ' do ',\n",
    "        ' Dos ': ' dos ',\n",
    "    }\n",
    "    for k, v in dict_rename.items():\n",
    "        x = x.replace(k, v)\n",
    "    x = x.replace('  ', ' ')\n",
    "    return x.strip()"
   ]
  },
  {
   "cell_type": "markdown",
   "metadata": {},
   "source": [
    "<br>\n",
    "\n",
    "## *Download*"
   ]
  },
  {
   "cell_type": "code",
   "execution_count": null,
   "metadata": {},
   "outputs": [],
   "source": [
    "# Input\n",
    "url = 'http://datageo.ambiente.sp.gov.br/geoserver/datageo/RegionaisdaDefesaCivil/wfs?version=1.0.0&request=GetFeature&outputFormat=SHAPE-ZIP&typeName=RegionaisdaDefesaCivil'\n",
    "filename = 'sp_defesacivil.zip'\n",
    "path = os.path.join('data', 'shps')\n",
    "\n",
    "# Get Data\n",
    "get_download(url, filename, path)\n",
    "unzip(filename, path)"
   ]
  },
  {
   "cell_type": "code",
   "execution_count": null,
   "metadata": {},
   "outputs": [],
   "source": [
    "# Lê arquivo\n",
    "file = 'sp_defesacivil'\n",
    "shp = os.path.join('data', 'shps', '{}.shp'.format(file))\n",
    "gdf = gpd.read_file(shp)\n",
    "\n",
    "# Transforma Coordenadas\n",
    "gdf = gdf.to_crs(epsg=4326)\n",
    "\n",
    "# Renomeia colunas\n",
    "gdf.rename(\n",
    "    columns={\n",
    "        'Codigo': 'repdec_cod',\n",
    "        'Nome'  : 'repdec_regiao',\n",
    "    },\n",
    "    inplace=True\n",
    ")\n",
    "\n",
    "# Renomeia Campos Coluna\n",
    "gdf.loc[:, 'repdec_cod'] = gdf['repdec_cod'].astype(str).apply(lambda x: rename_nome(x))\n",
    "gdf.loc[:, 'repdec_regiao'] = gdf['repdec_regiao'].astype(str).apply(lambda x: rename_nome(x))\n",
    "\n",
    "# Results\n",
    "display(gdf.head())\n",
    "#gdf.plot()\n",
    "\n",
    "# Cria Cópia\n",
    "gdf_repdec = gdf"
   ]
  },
  {
   "cell_type": "code",
   "execution_count": null,
   "metadata": {},
   "outputs": [],
   "source": [
    "# Deleta Shapefile\n",
    "file = 'sp_defesacivil'\n",
    "shp = os.path.join('data', 'shps', '{}.shp'.format(file))\n",
    "driver = ogr.GetDriverByName(\"ESRI Shapefile\")\n",
    "\n",
    "# Delete shapefile\n",
    "if os.path.exists(shp):\n",
    "    driver.DeleteDataSource(shp)\n",
    "\n",
    "# Delete other files\n",
    "for i in os.listdir(os.path.dirname(shp)):\n",
    "    if i.split('.')[0] == file:\n",
    "        os.remove(os.path.join('data', 'shps', i))"
   ]
  },
  {
   "cell_type": "markdown",
   "metadata": {},
   "source": [
    "<br>\n",
    "\n",
    "## Convert to Points"
   ]
  },
  {
   "cell_type": "code",
   "execution_count": null,
   "metadata": {},
   "outputs": [],
   "source": [
    "# Lê arquivo\n",
    "gdf = gpd.read_file(\n",
    "    'https://raw.githubusercontent.com/michelmetran/sp/main/data/shps/sp_050k_wgs84.geojson',\n",
    ")\n",
    "\n",
    "# Transforma Coordenadas\n",
    "gdf = gdf.to_crs(epsg=4326)\n",
    "\n",
    "# Pega centroid\n",
    "gdf_geometry = gdf.representative_point()\n",
    "gdf['geometry'] = gdf_geometry\n",
    "\n",
    "# Results\n",
    "display(gdf.head())\n",
    "gdf.plot()"
   ]
  },
  {
   "cell_type": "markdown",
   "metadata": {},
   "source": [
    "<br>\n",
    "\n",
    "## Spatial Join"
   ]
  },
  {
   "cell_type": "code",
   "execution_count": null,
   "metadata": {},
   "outputs": [],
   "source": [
    "# Intersect\n",
    "gdf_inter = gpd.sjoin(gdf, gdf_repdec, how='inner', op='intersects')\n",
    "\n",
    "# Convert to Dataframe\n",
    "df = gdf_inter[['id_municipio', 'repdec_cod', 'repdec_regiao']].copy()\n",
    "\n",
    "# Results\n",
    "display(df.head())\n",
    "gdf_inter.plot()"
   ]
  },
  {
   "cell_type": "markdown",
   "metadata": {},
   "source": [
    "<br>\n",
    "\n",
    "## Join Municípios"
   ]
  },
  {
   "cell_type": "code",
   "execution_count": null,
   "metadata": {},
   "outputs": [],
   "source": [
    "# Lê o arquivo csv com o nome dos municípios\n",
    "df_mun = pd.read_csv(\n",
    "    'https://raw.githubusercontent.com/michelmetran/sp/main/data/tabs/tab_municipios.csv',\n",
    "    usecols=['id_municipio', 'municipio_nome']\n",
    ")\n",
    "\n",
    "# Merge\n",
    "df = pd.merge(\n",
    "    df_mun,\n",
    "    df,\n",
    "    how='left',\n",
    "    left_on='id_municipio',\n",
    "    right_on='id_municipio'\n",
    ")\n",
    "\n",
    "# Resultados\n",
    "df.head()"
   ]
  },
  {
   "cell_type": "markdown",
   "metadata": {},
   "source": [
    "<br>\n",
    "\n",
    "## Join Defesa Civil\n",
    "\n",
    "Por meio do [*site* da Defesa Civil](http://www.defesacivil.sp.gov.br/) (mais específicamente nesse [*link*](http://www.defesacivil.sp.gov.br/coordenadores-regionais-de-defesa-civil/)) foi possível obter diversas informações sobre os Coordenadores que atuam nas 'Coordenadorias Regionais de Proteção e Defesa Civil - REPDEC'.\n",
    "\n",
    "Foi utilizado o *script* **get_infos.ipynb** para isso. Abaixo o arquivo gerado é apenas lido, para ser conctenado com a lista de municípios."
   ]
  },
  {
   "cell_type": "code",
   "execution_count": null,
   "metadata": {},
   "outputs": [],
   "source": [
    "# Lê o arquivo csv com o nome dos municípios\n",
    "df_defesa = pd.read_csv(\n",
    "    os.path.join('data', 'tabs', 'tab_defesacivil.csv'),\n",
    ")\n",
    "\n",
    "# Merge\n",
    "df = pd.merge(\n",
    "    df,\n",
    "    df_defesa,    \n",
    "    how='left',\n",
    "    left_on='repdec_cod',\n",
    "    right_on='repdec_cod'\n",
    ")\n",
    "\n",
    "# Resultados\n",
    "df.head()"
   ]
  },
  {
   "cell_type": "markdown",
   "metadata": {},
   "source": [
    "<br>\n",
    "\n",
    "## Salva"
   ]
  },
  {
   "cell_type": "code",
   "execution_count": null,
   "metadata": {},
   "outputs": [],
   "source": [
    "# Salva\n",
    "df.to_csv(\n",
    "    os.path.join('data', 'tabs', 'tab_municipio_defesacivil.csv'),\n",
    "    index=False,\n",
    ")\n",
    "\n",
    "# Resultados\n",
    "df.head()"
   ]
  }
 ],
 "metadata": {
  "kernelspec": {
   "display_name": "Python [conda env:pablocarreira-py38] *",
   "language": "python",
   "name": "conda-env-pablocarreira-py38-py"
  },
  "language_info": {
   "codemirror_mode": {
    "name": "ipython",
    "version": 3
   },
   "file_extension": ".py",
   "mimetype": "text/x-python",
   "name": "python",
   "nbconvert_exporter": "python",
   "pygments_lexer": "ipython3",
   "version": "3.8.8"
  },
  "toc": {
   "base_numbering": 1,
   "nav_menu": {},
   "number_sections": true,
   "sideBar": true,
   "skip_h1_title": false,
   "title_cell": "Table of Contents",
   "title_sidebar": "Contents",
   "toc_cell": false,
   "toc_position": {},
   "toc_section_display": true,
   "toc_window_display": true
  },
  "toc-autonumbering": true,
  "toc-showcode": false
 },
 "nbformat": 4,
 "nbformat_minor": 4
}

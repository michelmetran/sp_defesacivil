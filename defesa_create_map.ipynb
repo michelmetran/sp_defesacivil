{
 "cells": [
  {
   "cell_type": "markdown",
   "id": "technical-digest",
   "metadata": {},
   "source": [
    "# Introdução"
   ]
  },
  {
   "cell_type": "code",
   "execution_count": null,
   "id": "sharp-peace",
   "metadata": {},
   "outputs": [],
   "source": [
    "import os\n",
    "import re\n",
    "import time\n",
    "import json\n",
    "import folium\n",
    "import random\n",
    "import requests\n",
    "import numpy as np\n",
    "import pandas as pd\n",
    "import seaborn as sns\n",
    "import geopandas as gpd\n",
    "from folium import plugins\n",
    "from osgeo import gdal, osr\n",
    "from bs4 import BeautifulSoup\n",
    "from tqdm.notebook import trange, tqdm"
   ]
  },
  {
   "cell_type": "markdown",
   "id": "graphic-cleveland",
   "metadata": {},
   "source": [
    "<br>\n",
    "\n",
    "# Join Data"
   ]
  },
  {
   "cell_type": "code",
   "execution_count": null,
   "id": "raised-visibility",
   "metadata": {},
   "outputs": [],
   "source": [
    "# Lê o arquivo csv com o nome dos municípios\n",
    "df = pd.read_csv(\n",
    "    'https://raw.githubusercontent.com/michelmetran/sp_defesacivil/main/data/tabs/tab_municipio_defesacivil.csv',\n",
    ")\n",
    "\n",
    "# Lê o arquivo csv com o nome dos municípios\n",
    "gdf = gpd.read_file(\n",
    "    'https://raw.githubusercontent.com/michelmetran/sp/main/data/shps/sp_250k_wgs84.geojson',\n",
    ")\n",
    "gdf.drop(['municipio_nome'], axis=1, inplace=True)\n",
    "gdf['id_municipio'] = gdf['id_municipio'].astype(int)\n",
    "gdf['geometry'] = gdf.simplify(0.0015)\n",
    "\n",
    "# Merge\n",
    "gdf = gdf.merge(\n",
    "    df,\n",
    "    on='id_municipio',\n",
    "    how='left'\n",
    ")\n",
    "\n",
    "# Results\n",
    "gdf.head()"
   ]
  },
  {
   "cell_type": "code",
   "execution_count": null,
   "id": "sublime-daily",
   "metadata": {},
   "outputs": [],
   "source": [
    "gdf['coord_adj6_tel01ramal'][0] is np.NaN or np.isnan(gdf['coord_adj6_tel01ramal'][0])"
   ]
  },
  {
   "cell_type": "code",
   "execution_count": null,
   "id": "adaptive-dress",
   "metadata": {},
   "outputs": [],
   "source": [
    "gdf['coord_adj6_tel01ramal'][0] is np.NaN or np.isnan(gdf['coord_adj6_tel01ramal'][0])"
   ]
  },
  {
   "cell_type": "code",
   "execution_count": null,
   "id": "compliant-merit",
   "metadata": {},
   "outputs": [],
   "source": [
    "gdf['coord_adj6_tel01ramal'][0] is np.NaN"
   ]
  },
  {
   "cell_type": "code",
   "execution_count": null,
   "id": "least-sunrise",
   "metadata": {},
   "outputs": [],
   "source": [
    "np.isnan(gdf['coord_adj6_tel01ramal'][0])"
   ]
  },
  {
   "cell_type": "code",
   "execution_count": null,
   "id": "shared-airfare",
   "metadata": {},
   "outputs": [],
   "source": [
    "pd.isnull(gdf['coord_adj6_tel01ramal'][0])"
   ]
  },
  {
   "cell_type": "code",
   "execution_count": null,
   "id": "hired-description",
   "metadata": {},
   "outputs": [],
   "source": [
    "# Out[97]: array([ True, False], dtype=bool)\n",
    "# In [98]: pd.isnull(np.array([np.nan, 0], dtype=object))\n",
    "# Out[98]: array([ True, False], dtype=bool)"
   ]
  },
  {
   "cell_type": "code",
   "execution_count": null,
   "id": "adopted-sensitivity",
   "metadata": {},
   "outputs": [],
   "source": []
  },
  {
   "cell_type": "code",
   "execution_count": null,
   "id": "conceptual-promotion",
   "metadata": {},
   "outputs": [],
   "source": [
    "pd.isna('dog')\n",
    "pd.isna(gdf['coord_adj6_tel01ramal'][0])"
   ]
  },
  {
   "cell_type": "code",
   "execution_count": null,
   "id": "wireless-delivery",
   "metadata": {},
   "outputs": [],
   "source": [
    "pd.isna(np.isnan(gdf['coord_adj6_tel01ramal'][0]))"
   ]
  },
  {
   "cell_type": "markdown",
   "id": "weighted-bahamas",
   "metadata": {},
   "source": [
    "<br>\n",
    "\n",
    "## Create pop up's column"
   ]
  },
  {
   "cell_type": "code",
   "execution_count": null,
   "id": "natural-anger",
   "metadata": {},
   "outputs": [],
   "source": [
    "# Add Field\n",
    "def popup_html(row):\n",
    "    tel_01 = str(row['coord_regional_tel01']).replace('-', '').replace(')', '').replace('(', '+55').replace(' ', '')\n",
    "    tel_02 = str(row['coord_regional_tel02']).replace('-', '').replace(')', '').replace('(', '+55').replace(' ', '')\n",
    "    tel_11 = str(row['coord_adj1_tel01']).replace('-', '').replace(')', '').replace('(', '+55').replace(' ', '')\n",
    "    tel_12 = str(row['coord_adj1_tel02']).replace('-', '').replace(')', '').replace('(', '+55').replace(' ', '')\n",
    "    tel_21 = str(row['coord_adj2_tel01']).replace('-', '').replace(')', '').replace('(', '+55').replace(' ', '')\n",
    "    tel_22 = str(row['coord_adj2_tel02']).replace('-', '').replace(')', '').replace('(', '+55').replace(' ', '')\n",
    "    tel_31 = str(row['coord_adj3_tel01']).replace('-', '').replace(')', '').replace('(', '+55').replace(' ', '')\n",
    "    tel_32 = str(row['coord_adj3_tel02']).replace('-', '').replace(')', '').replace('(', '+55').replace(' ', '')\n",
    "    tel_41 = str(row['coord_adj4_tel01']).replace('-', '').replace(')', '').replace('(', '+55').replace(' ', '')\n",
    "    tel_42 = str(row['coord_adj4_tel02']).replace('-', '').replace(')', '').replace('(', '+55').replace(' ', '')\n",
    "    tel_51 = str(row['coord_adj5_tel01']).replace('-', '').replace(')', '').replace('(', '+55').replace(' ', '')\n",
    "    tel_52 = str(row['coord_adj5_tel02']).replace('-', '').replace(')', '').replace('(', '+55').replace(' ', '')\n",
    "    tel_61 = str(row['coord_adj6_tel01']).replace('-', '').replace(')', '').replace('(', '+55').replace(' ', '')\n",
    "    tel_62 = str(row['coord_adj6_tel02']).replace('-', '').replace(')', '').replace('(', '+55').replace(' ', '')\n",
    "    tel_71 = str(row['coord_adj7_tel01']).replace('-', '').replace(')', '').replace('(', '+55').replace(' ', '')\n",
    "    tel_72 = str(row['coord_adj7_tel02']).replace('-', '').replace(')', '').replace('(', '+55').replace(' ', '')\n",
    "    \n",
    "    # \n",
    "    tel_11 = tel_11 if pd.isnull(row['coord_adj1_tel01ramal']) else '{}p{}'.format(tel_11, int(row['coord_adj1_tel01ramal']))\n",
    "    \n",
    "    \n",
    "    \n",
    "    html = \"\"\"\n",
    "    <div>\n",
    "    <p><b>{}</b> pertence à:\n",
    "    <h4>REPDEC de <b>{}</b></h4></p>\n",
    "    <p><b>Coordenador Regional:</b><br>\n",
    "    {}<br>\n",
    "    {}{}<br>\n",
    "    {}{}<br>\n",
    "    <br>\n",
    "    <a id=\"seeMore\" onclick=\"toggleSeeMore()\" href=\"javascript:void(0);\">Coordenadores Adjuntos</a><p>\n",
    "    <p id=\"textarea\" style=\"display: none\">\n",
    "    {}\n",
    "    {}{}\n",
    "    {}{}\n",
    "    \n",
    "    {}\n",
    "    {}{}\n",
    "    {}{}\n",
    "    \n",
    "    {}\n",
    "    {}{}\n",
    "    {}{}\n",
    "    \n",
    "    {}\n",
    "    {}{}\n",
    "    {}{}\n",
    "    \n",
    "    {}\n",
    "    {}{}\n",
    "    {}{}\n",
    "    \n",
    "    {}\n",
    "    {}{}\n",
    "    {}{}\n",
    "    \n",
    "    {}\n",
    "    {}{}\n",
    "    {}{}\n",
    "    </p>    \n",
    "    </div>\n",
    "    \"\"\".format(\n",
    "        '' if pd.isnull(row['municipio_nome'])   else '{}'.format(row['municipio_nome']),\n",
    "        '' if pd.isnull(row['repdec_regiao'])   else '{}'.format(row['repdec_regiao']),\n",
    "        \n",
    "        '' if pd.isnull(row['coord_regional_nome'])   else '{}'.format(row['coord_regional_nome']),\n",
    "        '' if pd.isnull(row['coord_regional_mail01']) else 'E-mail: <a href=\"mailto:{}\">{}</a>'.format(row['coord_regional_mail01'], row['coord_regional_mail01']),\n",
    "        '' if pd.isnull(row['coord_regional_mail02']) else ' / <a href=\"mailto:{}\">{}</a>'.format(row['coord_regional_mail02'], row['coord_regional_mail02']),\n",
    "        '' if pd.isnull(row['coord_regional_tel01'])  else 'Telefone: <a href=\"tel:{}\">{}</a>'.format(tel_01, row['coord_regional_tel01']),\n",
    "        '' if pd.isnull(row['coord_regional_tel02'])  else ' / <a href=\"tel:{}\">{}</a>'.format(tel_02, row['coord_regional_tel02']),\n",
    "        \n",
    "        '' if pd.isnull(row['coord_adj1_nome'])   else '<b>Coordenador Adjunto #01</b><br>{}'.format(row['coord_adj1_nome']),\n",
    "        '' if pd.isnull(row['coord_adj1_mail01']) else '<br>E-mail: <a href=\"mailto:{}\">{}</a>'.format(row['coord_adj1_mail01'], row['coord_adj1_mail01']),\n",
    "        '' if pd.isnull(row['coord_adj1_mail02']) else ' / <a href=\"mailto:{}\">{}</a>'.format(row['coord_adj1_mail02'], row['coord_adj1_mail02']),\n",
    "        '' if pd.isnull(row['coord_adj1_tel01'])  else '<br>Telefone: <a href=\"tel:{}\">{}</a>'.format(tel_11, row['coord_adj1_tel01']),\n",
    "        '' if pd.isnull(row['coord_adj1_tel01ramal'])  else ' Ramal: {}</a>'.format(int(row['coord_adj1_tel01ramal'])),\n",
    "        '' if pd.isnull(row['coord_adj1_tel02'])  else ' / <a href=\"tel:{}\">{}</a>'.format(tel_12, row['coord_adj1_tel02']),\n",
    "        \n",
    "        '' if pd.isnull(row['coord_adj2_nome'])   else '<br><br><b>Coordenador Adjunto #02</b><br>{}'.format(row['coord_adj2_nome']),\n",
    "        '' if pd.isnull(row['coord_adj2_mail01']) else '<br>E-mail: <a href=\"mailto:{}\">{}</a>'.format(row['coord_adj2_mail01'], row['coord_adj2_mail01']),\n",
    "        '' if pd.isnull(row['coord_adj2_mail02']) else ' / <a href=\"mailto:{}\">{}</a>'.format(row['coord_adj2_mail02'], row['coord_adj2_mail02']),\n",
    "        '' if pd.isnull(row['coord_adj2_tel01'])  else '<br>Telefone: <a href=\"tel:{}\">{}</a>'.format(tel_21, row['coord_adj2_tel01']),\n",
    "        '' if pd.isnull(row['coord_adj2_tel02'])  else ' / <a href=\"tel:{}\">{}</a>'.format(tel_22, row['coord_adj2_tel02']),\n",
    "        \n",
    "        '' if pd.isnull(row['coord_adj3_nome'])   else '<br><br><b>Coordenador Adjunto #03</b><br>{}'.format(row['coord_adj3_nome']),\n",
    "        '' if pd.isnull(row['coord_adj3_mail01']) else '<br>E-mail: <a href=\"mailto:{}\">{}</a>'.format(row['coord_adj3_mail01'], row['coord_adj3_mail01']),\n",
    "        '' if pd.isnull(row['coord_adj3_mail02']) else ' / <a href=\"mailto:{}\">{}</a>'.format(row['coord_adj3_mail02'], row['coord_adj3_mail02']),\n",
    "        '' if pd.isnull(row['coord_adj3_tel01'])  else '<br>Telefone: <a href=\"tel:{}\">{}</a>'.format(tel_31, row['coord_adj3_tel01']),\n",
    "        '' if pd.isnull(row['coord_adj3_tel02'])  else ' / <a href=\"tel:{}\">{}</a>'.format(tel_32, row['coord_adj3_tel02']),\n",
    "        \n",
    "        '' if pd.isnull(row['coord_adj4_nome'])   else '<br><br><b>Coordenador Adjunto #04</b><br>{}'.format(row['coord_adj4_nome']),\n",
    "        '' if pd.isnull(row['coord_adj4_mail01']) else '<br>E-mail: <a href=\"mailto:{}\">{}</a>'.format(row['coord_adj4_mail01'], row['coord_adj4_mail01']),\n",
    "        '' if pd.isnull(row['coord_adj4_mail02']) else ' / <a href=\"mailto:{}\">{}</a>'.format(row['coord_adj4_mail02'], row['coord_adj4_mail02']),\n",
    "        '' if pd.isnull(row['coord_adj4_tel01'])  else '<br>Telefone: <a href=\"tel:{}\">{}</a>'.format(tel_41, row['coord_adj4_tel01']),\n",
    "        '' if pd.isnull(row['coord_adj4_tel02'])  else ' / <a href=\"tel:{}\">{}</a>'.format(tel_42, row['coord_adj4_tel02']),\n",
    "        \n",
    "        '' if pd.isnull(row['coord_adj5_nome'])   else '<br><br><b>Coordenador Adjunto #05</b><br>{}'.format(row['coord_adj5_nome']),\n",
    "        '' if pd.isnull(row['coord_adj5_mail01']) else '<br>E-mail: <a href=\"mailto:{}\">{}</a>'.format(row['coord_adj5_mail01'], row['coord_adj5_mail01']),\n",
    "        '' if pd.isnull(row['coord_adj5_mail02']) else ' / <a href=\"mailto:{}\">{}</a>'.format(row['coord_adj5_mail02'], row['coord_adj5_mail02']),\n",
    "        '' if pd.isnull(row['coord_adj5_tel01'])  else '<br>Telefone: <a href=\"tel:{}\">{}</a>'.format(tel_51, row['coord_adj5_tel01']),\n",
    "        '' if pd.isnull(row['coord_adj5_tel02'])  else ' / <a href=\"tel:{}\">{}</a>'.format(tel_52, row['coord_adj5_tel02']),\n",
    "        \n",
    "        '' if pd.isnull(row['coord_adj6_nome'])   else '<br><br><b>Coordenador Adjunto #06</b><br>{}'.format(row['coord_adj6_nome']),\n",
    "        '' if pd.isnull(row['coord_adj6_mail01']) else '<br>E-mail: <a href=\"mailto:{}\">{}</a>'.format(row['coord_adj6_mail01'], row['coord_adj6_mail01']),\n",
    "        '' if pd.isnull(row['coord_adj6_mail02']) else ' / <a href=\"mailto:{}\">{}</a>'.format(row['coord_adj6_mail02'], row['coord_adj6_mail02']),\n",
    "        '' if pd.isnull(row['coord_adj6_tel01'])  else '<br>Telefone: <a href=\"tel:{}\">{}</a>'.format(tel_61, row['coord_adj6_tel01']),\n",
    "        '' if pd.isnull(row['coord_adj6_tel02'])  else ' / <a href=\"tel:{}\">{}</a>'.format(tel_62, row['coord_adj6_tel02']),\n",
    "        \n",
    "        '' if pd.isnull(row['coord_adj7_nome'])   else '<br><br><b>Coordenador Adjunto #07</b><br>{}'.format(row['coord_adj7_nome']),\n",
    "        '' if pd.isnull(row['coord_adj7_mail01']) else '<br>E-mail: <a href=\"mailto:{}\">{}</a>'.format(row['coord_adj7_mail01'], row['coord_adj7_mail01']),\n",
    "        '' if pd.isnull(row['coord_adj7_mail02']) else ' / <a href=\"mailto:{}\">{}</a>'.format(row['coord_adj7_mail02'], row['coord_adj7_mail02']),\n",
    "        '' if pd.isnull(row['coord_adj7_tel01'])  else '<br>Telefone: <a href=\"tel:{}\">{}</a>'.format(tel_71, row['coord_adj7_tel01']),\n",
    "        '' if pd.isnull(row['coord_adj7_tel02'])  else ' / <a href=\"tel:{}\">{}</a>'.format(tel_72, row['coord_adj7_tel02']),\n",
    "    )\n",
    "    \n",
    "    html = html.replace('\\n','')\n",
    "    html = re.sub('\\s\\s+' , ' ', html) # Remove Espaços no meio\n",
    "    html = html.strip()\n",
    "    return html"
   ]
  },
  {
   "cell_type": "code",
   "execution_count": null,
   "id": "adverse-testing",
   "metadata": {},
   "outputs": [],
   "source": [
    "# Calculate PopUps\n",
    "gdf['popup'] = gdf.apply(popup_html, axis=1)"
   ]
  },
  {
   "cell_type": "markdown",
   "id": "recognized-color",
   "metadata": {
    "tags": []
   },
   "source": [
    "<br>\n",
    "\n",
    "## Adjust Table"
   ]
  },
  {
   "cell_type": "code",
   "execution_count": null,
   "id": "tamil-enemy",
   "metadata": {
    "tags": []
   },
   "outputs": [],
   "source": [
    "# Delete Columns\n",
    "gdf.drop([\n",
    "    'id_municipio', 'repdec_nome', \n",
    "    'coord_regional_nome', 'coord_regional_mail01', 'coord_regional_tel01',\n",
    "    'coord_adj1_nome', 'coord_adj1_mail01', 'coord_adj1_tel01',\n",
    "    'coord_adj2_nome', 'coord_adj2_mail01', 'coord_adj2_tel01',\n",
    "    'coord_adj3_nome', 'coord_adj3_mail01', 'coord_adj3_tel01',\n",
    "    'coord_adj4_nome', 'coord_adj4_mail01', 'coord_adj4_tel01',\n",
    "    'coord_adj5_nome', 'coord_adj5_mail01', 'coord_adj5_tel01',\n",
    "    'coord_adj6_nome', 'coord_adj6_mail01', 'coord_adj6_tel01',\n",
    "    'coord_adj7_nome', 'coord_adj7_mail01', 'coord_adj7_tel01',\n",
    "], axis=1, inplace=True)\n",
    "print(gdf.columns)\n",
    "\n",
    "# Save geojson\n",
    "gdf.to_file(\n",
    "    os.path.join('data', 'shps', 'sp_defesacivil.geojson'),\n",
    "    driver='GeoJSON',\n",
    "    encoding='utf-8'\n",
    ")\n",
    "\n",
    "# Results\n",
    "gdf.head()"
   ]
  },
  {
   "cell_type": "markdown",
   "id": "solid-grove",
   "metadata": {},
   "source": [
    "## Get Centroid"
   ]
  },
  {
   "cell_type": "code",
   "execution_count": null,
   "id": "martial-neighborhood",
   "metadata": {},
   "outputs": [],
   "source": [
    "def get_centroid(gdf):\n",
    "    gdf['apenasparacentroid'] = 35\n",
    "    gdf_dissolve = gdf.dissolve(by='apenasparacentroid')\n",
    "    gdf_centroid = gdf_dissolve.representative_point()\n",
    "    gdf = gdf.drop('apenasparacentroid', axis=1)\n",
    "    return [float(gdf_centroid.y), float(gdf_centroid.x)]"
   ]
  },
  {
   "cell_type": "code",
   "execution_count": null,
   "id": "enclosed-tackle",
   "metadata": {},
   "outputs": [],
   "source": [
    "list_centroid = get_centroid(gdf)\n",
    "list_centroid"
   ]
  },
  {
   "cell_type": "markdown",
   "id": "breathing-sheriff",
   "metadata": {},
   "source": [
    "## Folium"
   ]
  },
  {
   "cell_type": "code",
   "execution_count": null,
   "id": "changed-armenia",
   "metadata": {},
   "outputs": [],
   "source": [
    "def map_bomb(input_geojson, bbox):\n",
    "    gdf = gpd.read_file(input_geojson)\n",
    "    \n",
    "    # Column with category\n",
    "    col_categories = 'repdec_regiao'\n",
    "    \n",
    "    # Set palette\n",
    "    palette_polygon = 'Paired'\n",
    "\n",
    "    # Get list of unique values\n",
    "    categories = set(gdf[col_categories])\n",
    "    categories = list(categories)\n",
    "    categories.sort()\n",
    "\n",
    "    # See the palette chosed\n",
    "    pal = sns.color_palette(palette_polygon, n_colors=len(categories))\n",
    "\n",
    "    # Set dictionary\n",
    "    color_polygon = dict(zip(categories, pal.as_hex()))\n",
    "    color_polygon['Bauru'] = '#e699ff'\n",
    "    color_polygon['Campinas'] = '#4da6ff'\n",
    "\n",
    "    # Create Map\n",
    "    m = folium.Map(\n",
    "        location=[-22.545968889465207, -49.56185387118866],\n",
    "        zoom_start=6,\n",
    "        min_zoom=6,\n",
    "        max_zoom=11,\n",
    "        max_bounds=True,\n",
    "        min_lon = bbox['min_lon']*(101/100),\n",
    "        max_lon = bbox['max_lon']*(99/100),        \n",
    "        min_lat = bbox['min_lat']*(101/100),\n",
    "        max_lat = bbox['max_lat']*(99/100),\n",
    "        #zoom_delta=0.1,\n",
    "    )\n",
    "    folium.GeoJson(\n",
    "        gdf,\n",
    "        name='Defesa Civil',\n",
    "        smooth_factor=1.0,\n",
    "        zoom_on_click=False,\n",
    "        embed=False,\n",
    "        style_function=lambda x: {\n",
    "            'fillColor': color_polygon[x['properties'][col_categories]],\n",
    "            'color': color_polygon[x['properties'][col_categories]],\n",
    "            'weight': 1,\n",
    "            'fillOpacity': 0.3,\n",
    "        },\n",
    "        highlight_function=lambda x: {\n",
    "            'weight': 3,\n",
    "            'fillOpacity': 0.6,\n",
    "        },\n",
    "        tooltip=folium.features.GeoJsonTooltip(\n",
    "            fields=['municipio_nome', 'repdec_regiao'],\n",
    "            aliases=['Munícipio', 'REPDEC'],\n",
    "            sticky=True,\n",
    "            opacity=0.9,\n",
    "            direction='right',\n",
    "        ),\n",
    "        popup=folium.GeoJsonPopup(\n",
    "            ['popup'],\n",
    "            parse_html=False,\n",
    "            max_width='400',\n",
    "            show=False,\n",
    "            labels=False,\n",
    "            sticky=True,            \n",
    "        )        \n",
    "    ).add_to(m)\n",
    "\n",
    "    # Plugins\n",
    "    m.fit_bounds(m.get_bounds())\n",
    "    plugins.Fullscreen(\n",
    "        position='topleft',\n",
    "        title='Clique para Maximizar',\n",
    "        title_cancel='Mininizar',\n",
    "    ).add_to(m)\n",
    "    return m"
   ]
  },
  {
   "cell_type": "code",
   "execution_count": null,
   "id": "afraid-packaging",
   "metadata": {},
   "outputs": [],
   "source": [
    "# Map without Bounds\n",
    "bbox = {\n",
    "    'max_lat': 0,\n",
    "    'max_lon': 0,\n",
    "    'min_lat': 0,\n",
    "    'min_lon': 0,\n",
    "}\n",
    "m = map_bomb(os.path.join('data', 'shps', 'sp_defesacivil.geojson'), bbox)\n",
    "\n",
    "# Map with Bounds\n",
    "bbox = {\n",
    "    'max_lat': m.get_bounds()[1][0],\n",
    "    'min_lat': m.get_bounds()[0][0],\n",
    "    'max_lon': m.get_bounds()[1][1],\n",
    "    'min_lon': m.get_bounds()[0][1],\n",
    "}\n",
    "m = map_bomb(os.path.join('data', 'shps', 'sp_defesacivil.geojson'), bbox)\n",
    "\n",
    "# Results\n",
    "print(bbox)\n",
    "m"
   ]
  },
  {
   "cell_type": "code",
   "execution_count": null,
   "id": "valuable-herald",
   "metadata": {},
   "outputs": [],
   "source": [
    "def add_script(map_folium):\n",
    "    \"\"\"\n",
    "    \"\"\"\n",
    "    import folium\n",
    "    import branca as bc\n",
    "    \n",
    "    # Header to Add\n",
    "    head = \"\"\"\n",
    "    {% macro header(this, kwargs) %}\n",
    "    <script>\n",
    "    function toggleSeeMore() {\n",
    "    if(document.getElementById(\"textarea\").style.display == 'none') {\n",
    "    document.getElementById(\"textarea\").style.display = 'block';\n",
    "    document.getElementById(\"seeMore\").innerHTML = '...';\n",
    "    }\n",
    "    else {\n",
    "    document.getElementById(\"textarea\").style.display = 'none';\n",
    "    document.getElementById(\"seeMore\").innerHTML = 'Coordenadores Adjuntos';\n",
    "    }\n",
    "    }\n",
    "    </script>\n",
    "    {% endmacro %}\n",
    "    \"\"\"\n",
    "    \n",
    "    # Add Header\n",
    "    macro = bc.element.MacroElement()\n",
    "    macro._template = bc.element.Template(head)\n",
    "    map_folium.get_root().add_child(macro)\n",
    "    return map_folium"
   ]
  },
  {
   "cell_type": "code",
   "execution_count": null,
   "id": "headed-clock",
   "metadata": {},
   "outputs": [],
   "source": [
    "m = add_script(m)\n",
    "m"
   ]
  },
  {
   "cell_type": "markdown",
   "id": "irish-roommate",
   "metadata": {},
   "source": [
    "<br>\n",
    "\n",
    "# Save Map"
   ]
  },
  {
   "cell_type": "code",
   "execution_count": null,
   "id": "whole-dakota",
   "metadata": {},
   "outputs": [],
   "source": [
    "os.makedirs('maps', exist_ok=True)\n",
    "m.save(os.path.join('maps', 'defesacivil_map.html'))\n",
    "m.save(os.path.join('..', '..', '..', 'case_django', 'divadmin', 'templates', 'defesacivil_map.html'))"
   ]
  }
 ],
 "metadata": {
  "kernelspec": {
   "display_name": "Python [conda env:pablocarreira-py38] *",
   "language": "python",
   "name": "conda-env-pablocarreira-py38-py"
  },
  "language_info": {
   "codemirror_mode": {
    "name": "ipython",
    "version": 3
   },
   "file_extension": ".py",
   "mimetype": "text/x-python",
   "name": "python",
   "nbconvert_exporter": "python",
   "pygments_lexer": "ipython3",
   "version": "3.8.8"
  },
  "toc-autonumbering": true
 },
 "nbformat": 4,
 "nbformat_minor": 5
}

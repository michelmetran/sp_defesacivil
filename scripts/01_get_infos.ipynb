{
 "cells": [
  {
   "attachments": {},
   "cell_type": "markdown",
   "id": "continuing-craps",
   "metadata": {},
   "source": [
    "<br>\n",
    "\n",
    "# Introdução\n",
    "\n",
    "Por meio do [_site_ da Defesa Civil](http://www.defesacivil.sp.gov.br/) (mais específicamente nesse [_link_](http://www.defesacivil.sp.gov.br/coordenadores-regionais-de-defesa-civil/)) foi possível obter diversas informações sobre os Coordenadores que atuam nas 'Coordenadorias Regionais de Proteção e Defesa Civil - REPDEC'.\n"
   ]
  },
  {
   "cell_type": "code",
   "execution_count": null,
   "id": "rapid-miracle",
   "metadata": {},
   "outputs": [],
   "source": [
    "import os\n",
    "import random\n",
    "import re\n",
    "import time\n",
    "\n",
    "import geopandas as gpd\n",
    "import numpy as np\n",
    "import pandas as pd\n",
    "import requests\n",
    "from bs4 import BeautifulSoup\n",
    "from osgeo import gdal, osr\n",
    "from tqdm.notebook import tqdm, trange\n",
    "\n",
    "from sp_defesacivil_divadmin.my_paths import output_path_tabs"
   ]
  },
  {
   "attachments": {},
   "cell_type": "markdown",
   "id": "ranking-nancy",
   "metadata": {},
   "source": [
    "<br>\n",
    "\n",
    "# Dados Tabulares\n"
   ]
  },
  {
   "attachments": {},
   "cell_type": "markdown",
   "id": "conventional-africa",
   "metadata": {},
   "source": [
    "## Scrapy _Site_\n",
    "\n",
    "Iniciamente foi obtido o código fonte da paǵina, usando o _BeautifulSoup_.\n"
   ]
  },
  {
   "cell_type": "code",
   "execution_count": null,
   "id": "oriental-norman",
   "metadata": {},
   "outputs": [],
   "source": [
    "r = requests.get('http://www.defesacivil.sp.gov.br/coordenadores-regionais-de-defesa-civil/')\n",
    "soup = BeautifulSoup(r.content, 'html.parser')\n",
    "content_tag = soup.find('div', {'id': 'content'})\n"
   ]
  },
  {
   "cell_type": "code",
   "execution_count": null,
   "id": "b5e9e008",
   "metadata": {},
   "outputs": [],
   "source": [
    "list_text = []\n",
    "for i in content_tag.find_all('p'):\n",
    "    print(i.text)\n",
    "    list_text.append(i.text.replace('\\xa0', ' '))\n",
    "list_text"
   ]
  },
  {
   "attachments": {},
   "cell_type": "markdown",
   "id": "wrapped-incentive",
   "metadata": {},
   "source": [
    "<br>\n",
    "\n",
    "## Ajuste da tabela\n",
    "\n",
    "A partir disso, montei uma lista com todos os valores que estavam na página e converti a lista em uma tabela. Adicionei uma coluna contendo o valor do índice quando, na linha da tabela, houvesse a palavra \"REPDEC e preenchi essa tabela.\n"
   ]
  },
  {
   "cell_type": "code",
   "execution_count": null,
   "id": "critical-timing",
   "metadata": {},
   "outputs": [],
   "source": [
    "# Create Table\n",
    "df = pd.DataFrame({'data': list_text})\n",
    "df.head()"
   ]
  },
  {
   "cell_type": "code",
   "execution_count": null,
   "id": "c2659452",
   "metadata": {},
   "outputs": [],
   "source": [
    "df = df[df['data'] != ' ']\n",
    "df"
   ]
  },
  {
   "cell_type": "code",
   "execution_count": null,
   "id": "659f1d9b-09f4-48f4-a6b2-6e39d924a611",
   "metadata": {},
   "outputs": [],
   "source": [
    "# Define os marcos iniciais\n",
    "df['repdec'] = df.apply(\n",
    "    lambda x: x['data'] if 'REPDEC' in x['data'] else np.nan, axis=1\n",
    ")\n",
    "\n",
    "# Result\n",
    "df.head(10)"
   ]
  },
  {
   "cell_type": "code",
   "execution_count": null,
   "id": "343db2f8-483a-44d7-968a-7709d65f2559",
   "metadata": {},
   "outputs": [],
   "source": [
    "# Preenche Coluna\n",
    "df['repdec'] = df['repdec'].ffill()\n",
    "\n",
    "# Result\n",
    "df.head(10)"
   ]
  },
  {
   "cell_type": "code",
   "execution_count": null,
   "id": "fd2b94dc-c2ac-414a-9a86-2b5a649d21eb",
   "metadata": {},
   "outputs": [],
   "source": [
    "# dddd\n",
    "#df = df[df['data'] != df['repdec']]\n",
    "\n",
    "# Elimina Linhas com NaN\n",
    "df = df.dropna()\n",
    "\n",
    "# Result\n",
    "df.head(10)"
   ]
  },
  {
   "attachments": {},
   "cell_type": "markdown",
   "id": "competitive-boring",
   "metadata": {},
   "source": [
    "<br>\n",
    "\n",
    "Criei sub-listas, de tamanhos diferentes, para cada uma desses conjuntos, por meio desse índice e converti em uma tabela.\n"
   ]
  },
  {
   "cell_type": "code",
   "execution_count": null,
   "id": "judicial-perry",
   "metadata": {},
   "outputs": [],
   "source": [
    "list_temps = []\n",
    "for i in list(set(df['repdec'])):\n",
    "    df_temp = df[df['repdec'] == i]\n",
    "    list_temp = list(df_temp['data'])\n",
    "    list_temps.append(list_temp)\n"
   ]
  },
  {
   "cell_type": "code",
   "execution_count": null,
   "id": "13f28a32",
   "metadata": {},
   "outputs": [],
   "source": [
    "# \n",
    "n_columns = max([len(x) for x in list_temps])\n",
    "n_columns_exclude_repdec = n_columns -1\n",
    "\n",
    "# \n",
    "if n_columns_exclude_repdec % 3 == 0:\n",
    "    n_coords = int(n_columns_exclude_repdec / 3)\n",
    "\n",
    "# Results\n",
    "n_coords"
   ]
  },
  {
   "cell_type": "code",
   "execution_count": null,
   "id": "49e2f71c",
   "metadata": {},
   "outputs": [],
   "source": [
    "# Cria tabela\n",
    "df = pd.DataFrame(\n",
    "    list_temps,\n",
    ")\n",
    "\n",
    "# Results\n",
    "print(len(df.columns))\n",
    "df.head()"
   ]
  },
  {
   "cell_type": "code",
   "execution_count": null,
   "id": "0942cb8c",
   "metadata": {},
   "outputs": [],
   "source": [
    "list_cols = []\n",
    "list_itens = ['nome', 'mail', 'tel']\n",
    "\n",
    "# Adiciona Primeira Coluna\n",
    "list_cols.extend(['repdec'])\n",
    "\n",
    "# Adiciona Colunas Seguintes (coord_regional)\n",
    "list_cols.extend([f'coord_regional_{x}' for x in list_itens])\n",
    "\n",
    "# Adiciona Primeira Coluna (coord_adj)\n",
    "for n_coord_adj in range(8):    \n",
    "    n_coord_adj = n_coord_adj+1\n",
    "    list_cols.extend([f'coord_adj{n_coord_adj}_{x}' for x in list_itens])\n",
    "\n",
    "\n",
    "# Results\n",
    "print(len(list_cols))\n",
    "list_cols\n"
   ]
  },
  {
   "cell_type": "code",
   "execution_count": null,
   "id": "2a17379d",
   "metadata": {},
   "outputs": [],
   "source": [
    "# Cria tabela\n",
    "df = pd.DataFrame(\n",
    "    list_temps,\n",
    "    columns=list_cols\n",
    ")"
   ]
  },
  {
   "attachments": {},
   "cell_type": "markdown",
   "id": "natural-marine",
   "metadata": {},
   "source": [
    "<br>\n",
    "\n",
    "Com a tabela bruta, passei a limpa-la, \"splitando\" os campos pelo caractere \":\", além de outras correções.\n"
   ]
  },
  {
   "cell_type": "code",
   "execution_count": null,
   "id": "ccea4ef0",
   "metadata": {},
   "outputs": [],
   "source": [
    "# Exceção: em uma célula há duas vezes o \":\"\n",
    "df['coord_adj1_tel'] = (\n",
    "    df['coord_adj1_tel']\n",
    "    .astype(str)\n",
    "    .apply(lambda x: x.replace('Ramal:', 'Ramal '))\n",
    ")"
   ]
  },
  {
   "cell_type": "code",
   "execution_count": null,
   "id": "3abc0c76",
   "metadata": {},
   "outputs": [],
   "source": [
    "# Remove tudo que vem antes do :\n",
    "df = df.applymap(lambda x: x.split(':')[-1], na_action='ignore')"
   ]
  },
  {
   "cell_type": "code",
   "execution_count": null,
   "id": "sublime-biotechnology",
   "metadata": {},
   "outputs": [],
   "source": [
    "# Divide Células em Duas Colunas\n",
    "df[['repdec_nome', 'repdec_cod']] = df['repdec'].str.split('–', expand=True)\n",
    "df[['del', 'repdec_cod']] = df['repdec'].str.split('/', expand=True)\n",
    "df.drop(['del', 'repdec'], axis=1, inplace=True, errors='ignore')\n",
    "\n",
    "# Results\n",
    "df.head()"
   ]
  },
  {
   "attachments": {},
   "cell_type": "markdown",
   "id": "usual-mercy",
   "metadata": {},
   "source": [
    "## Funções\n",
    "\n",
    "Funções para renomear campos\n"
   ]
  },
  {
   "cell_type": "code",
   "execution_count": null,
   "id": "ranging-appraisal",
   "metadata": {},
   "outputs": [],
   "source": [
    "def rename_nome(x):\n",
    "    x = x.title()\n",
    "    x = x.strip()\n",
    "    dict_rename = {\n",
    "        # Encoding\n",
    "        '\\xa0': ' ',\n",
    "        '  ': ' ',\n",
    "        # Basics\n",
    "        ' Com ': ' com ',\n",
    "        ' Sobre ': ' sobre ',\n",
    "        ' Da ': ' da ',\n",
    "        ' De ': ' de ',\n",
    "        ' Do ': ' do ',\n",
    "        ' Das ': ' das ',\n",
    "        ' Dos ': ' dos ',\n",
    "        ' A ': ' a ',\n",
    "        ' As ': ' as ',\n",
    "        ' Ao ': ' ao ',\n",
    "        ' Aos ': ' aos ',\n",
    "        ' E ': ' e ',\n",
    "        ' O ': ' o ',\n",
    "        ' Os ': ' os ',\n",
    "        # Erros\n",
    "        '1ºten': '1º Ten',\n",
    "        # Abreviações\n",
    "        'Subten ': 'Subtenente ',\n",
    "        'Sub Ten': 'Subtenente ',\n",
    "        'Cap ': 'Capitão ',\n",
    "        'Ten ': 'Tenente ',\n",
    "        'Maj ': 'Major ',\n",
    "        'Cel ': 'Coronel ',\n",
    "        'Sgt ': 'Sargento ',\n",
    "        ' Pm ': ' PM ',\n",
    "        # Empty\n",
    "        'None': '',\n",
    "        'none': '',\n",
    "    }\n",
    "    for k, v in dict_rename.items():\n",
    "        x = x.replace(k, v)\n",
    "    x = x.replace('  ', ' ')\n",
    "    return x.strip()"
   ]
  },
  {
   "cell_type": "code",
   "execution_count": null,
   "id": "realistic-mortgage",
   "metadata": {},
   "outputs": [],
   "source": [
    "def rename_tel(x):\n",
    "    x = x.title()\n",
    "    x = x.strip()\n",
    "    dict_rename = {\n",
    "        # Encoding\n",
    "        '\\xa0': ' ',\n",
    "        '  ': ' ',\n",
    "        # Basics\n",
    "        ' – ': '-',\n",
    "        ')': ') ',\n",
    "        ' (': ' / (',\n",
    "        ' / ': '/',\n",
    "        '//': '/',\n",
    "        '/': ' / ',\n",
    "        '  ': ' ',\n",
    "        # Empty\n",
    "        'None': '',\n",
    "        'none': '',\n",
    "    }\n",
    "    for k, v in dict_rename.items():\n",
    "        x = x.replace(k, v)\n",
    "    x = x.replace('  ', ' ')\n",
    "    return x.strip()"
   ]
  },
  {
   "cell_type": "code",
   "execution_count": null,
   "id": "preliminary-simon",
   "metadata": {},
   "outputs": [],
   "source": [
    "def rename_mail(x):\n",
    "    x = x.lower()\n",
    "    x = x.strip()\n",
    "    dict_rename = {\n",
    "        # Encoding\n",
    "        '\\xa0': ' ',\n",
    "        '  ': ' ',\n",
    "        # Basic\n",
    "        ' ': '/',\n",
    "        ';': '/',\n",
    "        ',': '/',\n",
    "        '//': '/',\n",
    "        '/': ' / ',\n",
    "        '  ': ' ',\n",
    "        # Empty\n",
    "        'None': '',\n",
    "        'none': '',\n",
    "    }\n",
    "    for k, v in dict_rename.items():\n",
    "        x = x.replace(k, v)\n",
    "    x = x.replace('  ', ' ')\n",
    "    return x.strip()"
   ]
  },
  {
   "attachments": {},
   "cell_type": "markdown",
   "id": "existing-rabbit",
   "metadata": {},
   "source": [
    "<br>\n",
    "\n",
    "## Renomeando Campos em Colunas\n"
   ]
  },
  {
   "cell_type": "code",
   "execution_count": null,
   "id": "collective-bowling",
   "metadata": {},
   "outputs": [],
   "source": [
    "# Definindo lista de colunas que serão empregadas funções.\n",
    "list_nome = []\n",
    "list_tel = []\n",
    "list_mail = []\n",
    "\n",
    "for col in list(df.columns):\n",
    "    if 'nome' in col:\n",
    "        list_nome.append(col)\n",
    "    if 'tel' in col:\n",
    "        list_tel.append(col)\n",
    "    if 'mail' in col:\n",
    "        list_mail.append(col)\n",
    "\n",
    "# Adicionando manualmente outras colunas.\n",
    "list_nome.append('repdec_nome')\n",
    "list_nome.append('repdec_cod')\n",
    "\n",
    "# Aplicando funções\n",
    "for field in list_nome:\n",
    "    df[field] = df[field].astype(str).apply(lambda x: rename_nome(x))\n",
    "for field in list_tel:\n",
    "    df[field] = df[field].astype(str).apply(lambda x: rename_tel(x))\n",
    "for field in list_mail:\n",
    "    df[field] = df[field].astype(str).apply(lambda x: rename_mail(x))"
   ]
  },
  {
   "attachments": {},
   "cell_type": "markdown",
   "id": "unsigned-central",
   "metadata": {},
   "source": [
    "<br>\n",
    "\n",
    "E, por fim, reordenando colunas.\n"
   ]
  },
  {
   "cell_type": "code",
   "execution_count": null,
   "id": "cloudy-barrel",
   "metadata": {},
   "outputs": [],
   "source": [
    "# Reordena Colunas\n",
    "cols = df.columns.tolist()\n",
    "cols = cols[-2:] + cols[:-2]\n",
    "df = df.reindex(cols, axis=1)\n",
    "\n",
    "# Resultados\n",
    "df.head()"
   ]
  },
  {
   "attachments": {},
   "cell_type": "markdown",
   "id": "addressed-assist",
   "metadata": {},
   "source": [
    "## _Splita_ Telefones\n"
   ]
  },
  {
   "cell_type": "code",
   "execution_count": null,
   "id": "concrete-dubai",
   "metadata": {},
   "outputs": [],
   "source": [
    "# Definindo lista de colunas que serão empregadas funções.\n",
    "list_tel = []\n",
    "\n",
    "for col in list(df.columns):\n",
    "    if 'tel' in col:\n",
    "        list_tel.append(col)\n",
    "\n",
    "# Aplicando funções\n",
    "for field in list_tel:\n",
    "    tel_01 = f'{field}01'\n",
    "    tel_02 = f'{field}02'\n",
    "    tel_01ramal = f'{field}01ramal'\n",
    "    tel_02ramal = f'{field}02ramal'\n",
    "\n",
    "    # Split Telefone\n",
    "    try:\n",
    "        df[tel_01] = df[field].str.split(' / ', n=1, expand=True)[0]\n",
    "    except:\n",
    "        df[tel_01] = None\n",
    "    try:\n",
    "        df[tel_01ramal] = df[tel_01].str.split(' Ramal ', n=1, expand=True)[1]\n",
    "    except:\n",
    "        df[tel_01ramal] = None\n",
    "    try:\n",
    "        df[tel_01] = df[tel_01].str.split(' Ramal ', n=1, expand=True)[0]\n",
    "    except:\n",
    "        df[tel_01] = None\n",
    "\n",
    "    try:\n",
    "        df[tel_02] = df[field].str.split(' / ', n=1, expand=True)[1]\n",
    "    except:\n",
    "        df[tel_02] = None\n",
    "    try:\n",
    "        df[tel_02ramal] = df[tel_02].str.split(' Ramal ', n=1, expand=True)[1]\n",
    "    except:\n",
    "        df[tel_02ramal] = None\n",
    "    try:\n",
    "        df[tel_02] = df[tel_02].str.split(' Ramal ', n=1, expand=True)[0]\n",
    "    except:\n",
    "        df[tel_02] = None\n",
    "\n",
    "    # Deleta Coluna\n",
    "    df.drop(field, axis=1, inplace=True, errors='ignore')"
   ]
  },
  {
   "attachments": {},
   "cell_type": "markdown",
   "id": "focal-market",
   "metadata": {},
   "source": [
    "## _Splita_ E-mails\n"
   ]
  },
  {
   "cell_type": "code",
   "execution_count": null,
   "id": "eleven-ambassador",
   "metadata": {},
   "outputs": [],
   "source": [
    "list_mail = []\n",
    "\n",
    "for col in list(df.columns):\n",
    "    if 'mail' in col:\n",
    "        list_mail.append(col)\n",
    "\n",
    "# Aplicando funções\n",
    "for field in list_mail:\n",
    "    mail_01 = f'{field}01'\n",
    "    mail_02 = f'{field}02'\n",
    "\n",
    "    # Split Telefone\n",
    "    try:\n",
    "        df[mail_01] = df[field].str.split(' / ', n=1, expand=True)[0]\n",
    "    except:\n",
    "        df[mail_01] = None\n",
    "    try:\n",
    "        df[mail_02] = df[field].str.split(' / ', n=1, expand=True)[1]\n",
    "    except:\n",
    "        df[mail_02] = None\n",
    "\n",
    "    # Deleta Coluna\n",
    "    df.drop(field, axis=1, inplace=True, errors='ignore')"
   ]
  },
  {
   "attachments": {},
   "cell_type": "markdown",
   "id": "lasting-evolution",
   "metadata": {},
   "source": [
    "## Reordena Colunas\n"
   ]
  },
  {
   "cell_type": "code",
   "execution_count": null,
   "id": "cosmetic-williams",
   "metadata": {},
   "outputs": [],
   "source": [
    "# Reordena Colunas\n",
    "cols = df.columns.tolist()\n",
    "\n",
    "cols.sort()\n",
    "cols = cols[-2:] + cols[-9:-2] + cols[:-9]\n",
    "\n",
    "df = df.reindex(cols, axis=1)\n",
    "cols"
   ]
  },
  {
   "attachments": {},
   "cell_type": "markdown",
   "id": "facial-ancient",
   "metadata": {},
   "source": [
    "## Salva\n"
   ]
  },
  {
   "cell_type": "code",
   "execution_count": null,
   "id": "medical-reasoning",
   "metadata": {},
   "outputs": [],
   "source": [
    "# Results\n",
    "df.to_csv(\n",
    "    output_path_tabs / 'tab_defesacivil.csv',\n",
    "    index=False,\n",
    ")\n",
    "df"
   ]
  },
  {
   "cell_type": "code",
   "execution_count": null,
   "id": "f0982045",
   "metadata": {},
   "outputs": [],
   "source": []
  }
 ],
 "metadata": {
  "kernelspec": {
   "display_name": "pablocarreira-lastest",
   "language": "python",
   "name": "python3"
  },
  "language_info": {
   "codemirror_mode": {
    "name": "ipython",
    "version": 3
   },
   "file_extension": ".py",
   "mimetype": "text/x-python",
   "name": "python",
   "nbconvert_exporter": "python",
   "pygments_lexer": "ipython3",
   "version": "3.10.8"
  },
  "toc-autonumbering": true,
  "toc-showcode": false,
  "vscode": {
   "interpreter": {
    "hash": "687569cb6e4397037c9d383e6d97c177d3952104239309167bc1c3493c92ca14"
   }
  }
 },
 "nbformat": 4,
 "nbformat_minor": 5
}

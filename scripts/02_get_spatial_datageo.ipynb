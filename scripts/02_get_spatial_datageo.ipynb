{
 "cells": [
  {
   "attachments": {},
   "cell_type": "markdown",
   "metadata": {},
   "source": [
    "# Introdução\n",
    "\n",
    "_Script_ que cria uma tabela que apresenta informações das \\*Coordenadorias Regionais de Proteção e Defesa Civil - **REPDEC\\*** da Defesa Civil que atuam nos 645 município deo Estado de São Paulo.\n"
   ]
  },
  {
   "cell_type": "code",
   "execution_count": null,
   "metadata": {},
   "outputs": [],
   "source": [
    "#!pip3 install PyPDF2 --upgrade\n",
    "#!pip3 install pdf2jpg --upgrade"
   ]
  },
  {
   "cell_type": "code",
   "execution_count": null,
   "metadata": {},
   "outputs": [],
   "source": [
    "import os\n",
    "import random\n",
    "import shutil\n",
    "import time\n",
    "import urllib.parse\n",
    "from zipfile import ZipFile\n",
    "\n",
    "import geopandas as gpd\n",
    "import numpy as np\n",
    "import pandas as pd\n",
    "import requests\n",
    "from bs4 import BeautifulSoup\n",
    "from my_functions import rename_nome\n",
    "from open_geodata import geo\n",
    "from osgeo import gdal, ogr, osr\n",
    "from pdf2jpg import pdf2jpg\n",
    "from PyPDF2 import PdfFileReader, PdfFileWriter\n",
    "from tqdm.notebook import tqdm, trange\n",
    "\n",
    "from sp_defesacivil_divadmin.my_paths import (\n",
    "    input_path_shp,\n",
    "    output_path_gpkg,\n",
    "    output_path_maps,\n",
    "    output_path_tabs,\n",
    ")"
   ]
  },
  {
   "attachments": {},
   "cell_type": "markdown",
   "metadata": {},
   "source": [
    "<br>\n",
    "\n",
    "## Dados Espaciais: DataGeo\n"
   ]
  },
  {
   "cell_type": "code",
   "execution_count": null,
   "metadata": {},
   "outputs": [],
   "source": [
    "# Input\n",
    "url = 'http://datageo.ambiente.sp.gov.br/geoserver/datageo/RegionaisdaDefesaCivil/wfs?version=1.0.0&request=GetFeature&outputFormat=SHAPE-ZIP&typeName=RegionaisdaDefesaCivil'\n",
    "filename = 'sp_defesacivil.zip'\n",
    "\n",
    "r = requests.get(url, stream=True)\n",
    "with open(input_path_shp / filename, 'wb') as out:\n",
    "    for chunk in r.iter_content(chunk_size=128):\n",
    "        out.write(chunk)"
   ]
  },
  {
   "cell_type": "code",
   "execution_count": null,
   "metadata": {},
   "outputs": [],
   "source": [
    "# Lê arquivo\n",
    "gdf = gpd.read_file(input_path_shp / filename)\n",
    "\n",
    "# Transforma Coordenadas\n",
    "gdf = gdf.to_crs(epsg=4326)\n",
    "\n",
    "# Renomeia colunas\n",
    "gdf = gdf.rename(\n",
    "    columns={\n",
    "        'Codigo': 'repdec_cod',\n",
    "        'Nome': 'repdec_regiao',\n",
    "    }\n",
    ")\n",
    "\n",
    "# Renomeia Campos Coluna\n",
    "gdf.loc[:, 'repdec_cod'] = (\n",
    "    gdf['repdec_cod'].astype(str).apply(lambda x: rename_nome(x))\n",
    ")\n",
    "gdf.loc[:, 'repdec_regiao'] = (\n",
    "    gdf['repdec_regiao'].astype(str).apply(lambda x: rename_nome(x))\n",
    ")\n",
    "\n",
    "# Cria Cópia\n",
    "gdf_repdec = gdf.copy()\n",
    "\n",
    "# Results\n",
    "gdf.info()\n",
    "gdf.head()"
   ]
  },
  {
   "cell_type": "code",
   "execution_count": null,
   "metadata": {},
   "outputs": [],
   "source": [
    "# Results\n",
    "gdf.explore()"
   ]
  },
  {
   "attachments": {},
   "cell_type": "markdown",
   "metadata": {},
   "source": [
    "<br>\n",
    "\n",
    "## Convert to Points\n"
   ]
  },
  {
   "cell_type": "code",
   "execution_count": null,
   "metadata": {},
   "outputs": [],
   "source": [
    "# Load Nome dos Municípios\n",
    "df_mun = geo.load_dataset('tab.sp.tab_municipio_nome')\n",
    "\n",
    "# Read Geodataframe\n",
    "gdf = geo.load_dataset('geo.sp.sp_050k_wgs84')\n",
    "gdf = gdf.drop(['municipio_nome'], axis=1)\n",
    "gdf = gdf.merge(df_mun, how='left', on='id_municipio')\n",
    "\n",
    "# Cria Cópia\n",
    "gdf_mun = gdf.copy()\n",
    "\n",
    "# Results\n",
    "gdf.info()\n",
    "gdf.head()"
   ]
  },
  {
   "cell_type": "code",
   "execution_count": null,
   "metadata": {},
   "outputs": [],
   "source": [
    "# Cria Cópia\n",
    "gdf_centroid = gdf.copy()\n",
    "\n",
    "# Pega centroid\n",
    "gdf_centroid['geometry'] = gdf_centroid['geometry'].representative_point()\n",
    "\n",
    "# Resuslts\n",
    "gdf_centroid.explore()"
   ]
  },
  {
   "attachments": {},
   "cell_type": "markdown",
   "metadata": {},
   "source": [
    "<br>\n",
    "\n",
    "## Spatial Join\n"
   ]
  },
  {
   "cell_type": "code",
   "execution_count": null,
   "metadata": {},
   "outputs": [],
   "source": [
    "# Intersect\n",
    "gdf_inter = gpd.sjoin(\n",
    "    gdf_centroid, gdf_repdec, how='inner', predicate='intersects'\n",
    ")\n",
    "\n",
    "# Drop Columns\n",
    "# gdf_inter = gdf_inter.drop(['index_right'], axis=1)\n",
    "df_inter = gdf_inter[['id_municipio', 'repdec_cod', 'repdec_regiao']]\n",
    "\n",
    "# Merge\n",
    "gdf_inter = gdf_mun.merge(right=df_inter, how='left', on='id_municipio')\n",
    "\n",
    "# Results\n",
    "gdf_inter.explore(column='repdec_regiao')"
   ]
  },
  {
   "attachments": {},
   "cell_type": "markdown",
   "metadata": {},
   "source": [
    "<br>\n",
    "\n",
    "## Join Defesa Civil\n",
    "\n",
    "Por meio do [_site_ da Defesa Civil](http://www.defesacivil.sp.gov.br/) (mais específicamente nesse [_link_](http://www.defesacivil.sp.gov.br/coordenadores-regionais-de-defesa-civil/)) foi possível obter diversas informações sobre os Coordenadores que atuam nas 'Coordenadorias Regionais de Proteção e Defesa Civil - REPDEC'.\n",
    "\n",
    "Foi utilizado o _script_ **get_infos.ipynb** para isso. Abaixo o arquivo gerado é apenas lido, para ser conctenado com a lista de municípios.\n"
   ]
  },
  {
   "cell_type": "code",
   "execution_count": null,
   "metadata": {},
   "outputs": [],
   "source": [
    "# Lê o arquivo csv com o nome dos municípios\n",
    "df_defesa = pd.read_csv(\n",
    "    output_path_tabs / 'tab_defesacivil.csv',\n",
    ")\n",
    "\n",
    "# ddd\n",
    "df_defesa.info()\n",
    "df_defesa.head()"
   ]
  },
  {
   "cell_type": "code",
   "execution_count": null,
   "metadata": {},
   "outputs": [],
   "source": [
    "# Merge\n",
    "gdf_inter = gdf_inter.merge(\n",
    "    df_defesa, how='left', left_on='repdec_cod', right_on='repdec_cod'\n",
    ")\n",
    "\n",
    "# Resultados\n",
    "gdf_inter.info()\n",
    "gdf_inter.head()"
   ]
  },
  {
   "attachments": {},
   "cell_type": "markdown",
   "metadata": {},
   "source": [
    "<br>\n",
    "\n",
    "## Salva\n"
   ]
  },
  {
   "cell_type": "code",
   "execution_count": null,
   "metadata": {},
   "outputs": [],
   "source": [
    "# Salva\n",
    "gdf_inter.to_file(\n",
    "    output_path_gpkg / 'sp_defesacivil.gpkg',\n",
    "    driver='GPKG',\n",
    ")"
   ]
  },
  {
   "cell_type": "code",
   "execution_count": null,
   "metadata": {},
   "outputs": [],
   "source": []
  }
 ],
 "metadata": {
  "kernelspec": {
   "display_name": "pablocarreira-lastest",
   "language": "python",
   "name": "python3"
  },
  "language_info": {
   "codemirror_mode": {
    "name": "ipython",
    "version": 3
   },
   "file_extension": ".py",
   "mimetype": "text/x-python",
   "name": "python",
   "nbconvert_exporter": "python",
   "pygments_lexer": "ipython3",
   "version": "3.10.8"
  },
  "toc": {
   "base_numbering": 1,
   "nav_menu": {},
   "number_sections": true,
   "sideBar": true,
   "skip_h1_title": false,
   "title_cell": "Table of Contents",
   "title_sidebar": "Contents",
   "toc_cell": false,
   "toc_position": {},
   "toc_section_display": true,
   "toc_window_display": true
  },
  "toc-autonumbering": true,
  "toc-showcode": false,
  "vscode": {
   "interpreter": {
    "hash": "687569cb6e4397037c9d383e6d97c177d3952104239309167bc1c3493c92ca14"
   }
  }
 },
 "nbformat": 4,
 "nbformat_minor": 4
}

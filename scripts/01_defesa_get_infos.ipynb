{
 "cells": [
  {
   "cell_type": "markdown",
   "id": "continuing-craps",
   "metadata": {},
   "source": [
    "# Introdução\n",
    "\n",
    "Por meio do [*site* da Defesa Civil](http://www.defesacivil.sp.gov.br/) (mais específicamente nesse [*link*](http://www.defesacivil.sp.gov.br/coordenadores-regionais-de-defesa-civil/)) foi possível obter diversas informações sobre os Coordenadores que atuam nas 'Coordenadorias Regionais de Proteção e Defesa Civil - REPDEC'."
   ]
  },
  {
   "cell_type": "code",
   "execution_count": null,
   "id": "rapid-miracle",
   "metadata": {},
   "outputs": [],
   "source": [
    "import os\n",
    "import re\n",
    "import time\n",
    "import random\n",
    "import requests\n",
    "import numpy as np\n",
    "import pandas as pd\n",
    "import geopandas as gpd\n",
    "\n",
    "from bs4 import BeautifulSoup\n",
    "from osgeo import gdal, osr\n",
    "from tqdm.notebook import trange, tqdm"
   ]
  },
  {
   "cell_type": "markdown",
   "id": "ranking-nancy",
   "metadata": {},
   "source": [
    "<br>\n",
    "\n",
    "# Dados Tabulares"
   ]
  },
  {
   "cell_type": "markdown",
   "id": "conventional-africa",
   "metadata": {},
   "source": [
    "## Scrapy *Site*\n",
    "\n",
    "Iniciamente foi obtido o código fonte da paǵina, usando o *BeautifulSoup*."
   ]
  },
  {
   "cell_type": "code",
   "execution_count": null,
   "id": "oriental-norman",
   "metadata": {},
   "outputs": [],
   "source": [
    "url = 'http://www.defesacivil.sp.gov.br/coordenadores-regionais-de-defesa-civil/'\n",
    "r = requests.get(url)\n",
    "soup = BeautifulSoup(r.content, 'html.parser')\n",
    "tag = soup.find('div', {'id': 'content'}).text"
   ]
  },
  {
   "cell_type": "markdown",
   "id": "wrapped-incentive",
   "metadata": {},
   "source": [
    "<br>\n",
    "\n",
    "## Ajuste da tabela\n",
    "\n",
    "A partir disso, montei uma lista com todos os valores que estavam na página e converti a lista em uma tabela. Adicionei uma coluna contendo o valor do índice quando, na linha da tabela, houvesse a palavra \"REPDEC e preenchi essa tabela."
   ]
  },
  {
   "cell_type": "code",
   "execution_count": null,
   "id": "critical-timing",
   "metadata": {},
   "outputs": [],
   "source": [
    "list_main = []\n",
    "for i in str(tag).split('\\n'):\n",
    "    if i == '':\n",
    "        pass\n",
    "    else:\n",
    "        list_main.append(i)\n",
    "\n",
    "# Create Table\n",
    "df = pd.DataFrame({'data': list_main})\n",
    "df"
   ]
  },
  {
   "cell_type": "code",
   "execution_count": null,
   "id": "659f1d9b-09f4-48f4-a6b2-6e39d924a611",
   "metadata": {},
   "outputs": [],
   "source": [
    "# Define os marcos iniciais\n",
    "df['interval'] = df.apply(lambda x: x.name if 'REPDEC' in x['data'] else np.nan, axis=1)\n",
    "\n",
    "# Result\n",
    "df.head(10)"
   ]
  },
  {
   "cell_type": "code",
   "execution_count": null,
   "id": "9f0041a0-4d02-4872-a501-fcce864a853e",
   "metadata": {},
   "outputs": [],
   "source": [
    "# Remove Espaços em Branco\n",
    "df['data'] = df.apply(lambda x: np.nan if x['data'] == '\\xa0' else x, axis=1)\n",
    "\n",
    "# Result\n",
    "df.head(10)"
   ]
  },
  {
   "cell_type": "code",
   "execution_count": null,
   "id": "343db2f8-483a-44d7-968a-7709d65f2559",
   "metadata": {},
   "outputs": [],
   "source": [
    "# Preenche Coluna\n",
    "df['interval']  = df['interval'].ffill()\n",
    "\n",
    "# Result\n",
    "df.head(10)"
   ]
  },
  {
   "cell_type": "code",
   "execution_count": null,
   "id": "fd2b94dc-c2ac-414a-9a86-2b5a649d21eb",
   "metadata": {},
   "outputs": [],
   "source": [
    "# Elimina Linhas com NaN\n",
    "df = df.dropna()\n",
    "\n",
    "# Result\n",
    "df.head(10)"
   ]
  },
  {
   "cell_type": "markdown",
   "id": "competitive-boring",
   "metadata": {},
   "source": [
    "<br>\n",
    "\n",
    "Criei sub-listas, de tamanhos diferentes, para cada uma desses conjuntos, por meio desse índice e converti em uma tabela."
   ]
  },
  {
   "cell_type": "code",
   "execution_count": null,
   "id": "judicial-perry",
   "metadata": {},
   "outputs": [],
   "source": [
    "list_temps = []\n",
    "for i in list(set(df['interval'])):\n",
    "    df_temp = df[df['interval'] == i]\n",
    "    list_temp = list(df_temp['data'])\n",
    "    list_temps.append(list_temp)\n",
    "\n",
    "df = pd.DataFrame(\n",
    "    list_temps,\n",
    "    columns = [\n",
    "        'repdec',\n",
    "        'coord_regional_nome',\n",
    "        'coord_regional_mail',\n",
    "        'coord_regional_tel',\n",
    "        'coord_adj1_nome',\n",
    "        'coord_adj1_mail',\n",
    "        'coord_adj1_tel',\n",
    "        'coord_adj2_nome',\n",
    "        'coord_adj2_mail',\n",
    "        'coord_adj2_tel',\n",
    "        'coord_adj3_nome',\n",
    "        'coord_adj3_mail',\n",
    "        'coord_adj3_tel',\n",
    "        'coord_adj4_nome',\n",
    "        'coord_adj4_mail',\n",
    "        'coord_adj4_tel',\n",
    "        'coord_adj5_nome',\n",
    "        'coord_adj5_mail',\n",
    "        'coord_adj5_tel',\n",
    "        'coord_adj6_nome',\n",
    "        'coord_adj6_mail',\n",
    "        'coord_adj6_tel',\n",
    "        'coord_adj7_nome',\n",
    "        'coord_adj7_mail',\n",
    "        'coord_adj7_tel',\n",
    "    ])\n",
    "\n",
    "df.head()"
   ]
  },
  {
   "cell_type": "markdown",
   "id": "natural-marine",
   "metadata": {},
   "source": [
    "<br>\n",
    "\n",
    "Com a tabela bruta, passei a limpa-la, \"splitando\" os campos pelo caractere \":\", além de outras correções."
   ]
  },
  {
   "cell_type": "code",
   "execution_count": null,
   "id": "sublime-biotechnology",
   "metadata": {},
   "outputs": [],
   "source": [
    "# Exceção: em uma célula há duas vezes o \":\"\n",
    "df['coord_adj1_tel'] = df['coord_adj1_tel'].astype(str).apply(lambda x: x.replace('Ramal:', 'Ramal '))\n",
    "\n",
    "# Remove tudo que vem antes do :\n",
    "df = df.applymap(lambda x: x.split(':')[-1], na_action='ignore')\n",
    "\n",
    "# Divide Células em Duas Colunas\n",
    "df[['repdec_nome','repdec_cod']] = df['repdec'].str.split('–', expand=True)\n",
    "df[['del','repdec_cod']] = df['repdec'].str.split('/', expand=True)\n",
    "df.drop(['del', 'repdec'], axis=1, inplace=True, errors='ignore')\n",
    "\n",
    "# Results\n",
    "df.head()"
   ]
  },
  {
   "cell_type": "markdown",
   "id": "usual-mercy",
   "metadata": {},
   "source": [
    "## Funções\n",
    "\n",
    "Funções para renomear campos"
   ]
  },
  {
   "cell_type": "code",
   "execution_count": null,
   "id": "ranging-appraisal",
   "metadata": {},
   "outputs": [],
   "source": [
    "def rename_nome(x):\n",
    "    x = x.title()\n",
    "    x = x.strip()\n",
    "    dict_rename = {\n",
    "        # Encoding\n",
    "        '\\xa0': ' ',\n",
    "        '  '  : ' ',\n",
    "        \n",
    "        # Basics\n",
    "        ' Com '  : ' com ',\n",
    "        ' Sobre ': ' sobre ',\n",
    "        ' Da '   : ' da ',\n",
    "        ' De '   : ' de ',\n",
    "        ' Do '   : ' do ',\n",
    "        ' Das '  : ' das ',\n",
    "        ' Dos '  : ' dos ',\n",
    "        ' A '    : ' a ',\n",
    "        ' As '   : ' as ',\n",
    "        ' Ao '   : ' ao ',\n",
    "        ' Aos '  : ' aos ',\n",
    "        ' E '    : ' e ',\n",
    "        ' O '    : ' o ',\n",
    "        ' Os '   : ' os ',\n",
    "        \n",
    "        # Erros\n",
    "        '1ºten'  : '1º Ten',\n",
    "        \n",
    "        # Abreviações\n",
    "        'Subten ' : 'Subtenente ',\n",
    "        'Sub Ten' : 'Subtenente ',\n",
    "        'Cap '    : 'Capitão ',\n",
    "        'Ten '    : 'Tenente ',\n",
    "        'Maj '    : 'Major ',\n",
    "        'Cel '    : 'Coronel ',        \n",
    "        'Sgt '    : 'Sargento ',\n",
    "        ' Pm '    : ' PM ',\n",
    "\n",
    "        # Empty\n",
    "        'None' : '',\n",
    "        'none' : '',\n",
    "    }\n",
    "    for k, v in dict_rename.items():\n",
    "        x = x.replace(k, v)\n",
    "    x = x.replace('  ', ' ')\n",
    "    return x.strip()"
   ]
  },
  {
   "cell_type": "code",
   "execution_count": null,
   "id": "realistic-mortgage",
   "metadata": {},
   "outputs": [],
   "source": [
    "def rename_tel(x):\n",
    "    x = x.title()\n",
    "    x = x.strip()\n",
    "    dict_rename = {\n",
    "        # Encoding\n",
    "        '\\xa0': ' ',\n",
    "        '  '  : ' ',\n",
    "\n",
    "        # Basics\n",
    "        ' – ' : '-',\n",
    "        ')'   : ') ',\n",
    "        ' ('  : ' / (',\n",
    "        ' / ' : '/',\n",
    "        '//'  : '/',\n",
    "        '/'   : ' / ',\n",
    "        '  '  : ' ',\n",
    "        \n",
    "        # Empty\n",
    "        'None' : '',\n",
    "        'none' : '',\n",
    "    }\n",
    "    for k, v in dict_rename.items():\n",
    "        x = x.replace(k, v)\n",
    "    x = x.replace('  ', ' ')\n",
    "    return x.strip()"
   ]
  },
  {
   "cell_type": "code",
   "execution_count": null,
   "id": "preliminary-simon",
   "metadata": {},
   "outputs": [],
   "source": [
    "def rename_mail(x):\n",
    "    x = x.lower()\n",
    "    x = x.strip()\n",
    "    dict_rename = {\n",
    "        # Encoding\n",
    "        '\\xa0': ' ',\n",
    "        '  '  : ' ',\n",
    "        \n",
    "        # Basic\n",
    "        ' '   : '/',\n",
    "        ';'   : '/',\n",
    "        ','   : '/',\n",
    "        '//'  : '/',\n",
    "        '/'   : ' / ',\n",
    "        '  '  : ' ',\n",
    "        \n",
    "        # Empty\n",
    "        'None' : '',\n",
    "        'none' : '',\n",
    "    }\n",
    "    for k, v in dict_rename.items():\n",
    "        x = x.replace(k, v)\n",
    "    x = x.replace('  ', ' ')\n",
    "    return x.strip()"
   ]
  },
  {
   "cell_type": "markdown",
   "id": "existing-rabbit",
   "metadata": {},
   "source": [
    "<br>\n",
    "\n",
    "## Renomeando Campos em Colunas"
   ]
  },
  {
   "cell_type": "code",
   "execution_count": null,
   "id": "collective-bowling",
   "metadata": {},
   "outputs": [],
   "source": [
    "# Definindo lista de colunas que serão empregadas funções.\n",
    "list_nome = []\n",
    "list_tel  = []\n",
    "list_mail = []\n",
    "\n",
    "for col in list(df.columns):\n",
    "    if 'nome' in col:\n",
    "        list_nome.append(col)\n",
    "    if 'tel' in col:\n",
    "        list_tel.append(col)\n",
    "    if 'mail' in col:\n",
    "        list_mail.append(col)\n",
    "\n",
    "# Adicionando manualmente outras colunas.\n",
    "list_nome.append('repdec_nome')\n",
    "list_nome.append('repdec_cod')\n",
    "\n",
    "# Aplicando funções\n",
    "for field in list_nome:\n",
    "    df[field] = df[field].astype(str).apply(lambda x: rename_nome(x))\n",
    "for field in list_tel:    \n",
    "    df[field] = df[field].astype(str).apply(lambda x: rename_tel(x))\n",
    "for field in list_mail:    \n",
    "    df[field] = df[field].astype(str).apply(lambda x: rename_mail(x))"
   ]
  },
  {
   "cell_type": "markdown",
   "id": "unsigned-central",
   "metadata": {},
   "source": [
    "<br>\n",
    "\n",
    "E, por fim, reordenando colunas."
   ]
  },
  {
   "cell_type": "code",
   "execution_count": null,
   "id": "cloudy-barrel",
   "metadata": {},
   "outputs": [],
   "source": [
    "# Reordena Colunas\n",
    "cols = df.columns.tolist()\n",
    "cols = cols[-2:] + cols[:-2]\n",
    "df = df.reindex(cols, axis=1)\n",
    "\n",
    "# Resultados\n",
    "df.head()"
   ]
  },
  {
   "cell_type": "markdown",
   "id": "addressed-assist",
   "metadata": {},
   "source": [
    "## *Splita* Telefones"
   ]
  },
  {
   "cell_type": "code",
   "execution_count": null,
   "id": "concrete-dubai",
   "metadata": {},
   "outputs": [],
   "source": [
    "# Definindo lista de colunas que serão empregadas funções.\n",
    "list_tel  = []\n",
    "\n",
    "for col in list(df.columns):\n",
    "    if 'tel' in col:\n",
    "        list_tel.append(col)\n",
    "\n",
    "# Aplicando funções\n",
    "for field in list_tel:\n",
    "    tel_01      = '{}01'.format(field)\n",
    "    tel_02      = '{}02'.format(field)\n",
    "    tel_01ramal = '{}01ramal'.format(field)\n",
    "    tel_02ramal = '{}02ramal'.format(field)\n",
    "    \n",
    "    # Split Telefone\n",
    "    try:    df[tel_01]      = df[field].str.split(' / ', n=1, expand=True)[0]\n",
    "    except: df[tel_01]      = None\n",
    "    try:    df[tel_01ramal] = df[tel_01].str.split(' Ramal ', n=1, expand=True)[1]\n",
    "    except: df[tel_01ramal] = None\n",
    "    try:    df[tel_01]      = df[tel_01].str.split(' Ramal ', n=1, expand=True)[0]\n",
    "    except: df[tel_01]      = None\n",
    "    \n",
    "    \n",
    "    try:    df[tel_02]      = df[field].str.split(' / ', n=1, expand=True)[1]\n",
    "    except: df[tel_02]      = None\n",
    "    try:    df[tel_02ramal] = df[tel_02].str.split(' Ramal ', n=1, expand=True)[1]\n",
    "    except: df[tel_02ramal] = None\n",
    "    try:    df[tel_02]      = df[tel_02].str.split(' Ramal ', n=1, expand=True)[0]\n",
    "    except: df[tel_02]      = None\n",
    "    \n",
    "    # Deleta Coluna\n",
    "    df.drop(field, axis=1, inplace=True, errors='ignore')"
   ]
  },
  {
   "cell_type": "markdown",
   "id": "focal-market",
   "metadata": {},
   "source": [
    "## *Splita* E-mails"
   ]
  },
  {
   "cell_type": "code",
   "execution_count": null,
   "id": "eleven-ambassador",
   "metadata": {},
   "outputs": [],
   "source": [
    "list_mail = []\n",
    "\n",
    "for col in list(df.columns):\n",
    "    if 'mail' in col:\n",
    "        list_mail.append(col)\n",
    "\n",
    "# Aplicando funções\n",
    "for field in list_mail:\n",
    "    mail_01      = '{}01'.format(field)\n",
    "    mail_02      = '{}02'.format(field)\n",
    "    \n",
    "    # Split Telefone\n",
    "    try:    df[mail_01]      = df[field].str.split(' / ', n=1, expand=True)[0]\n",
    "    except: df[mail_01]      = None\n",
    "    try:    df[mail_02]      = df[field].str.split(' / ', n=1, expand=True)[1]\n",
    "    except: df[mail_02]      = None\n",
    "\n",
    "    # Deleta Coluna\n",
    "    df.drop(field, axis=1, inplace=True, errors='ignore')"
   ]
  },
  {
   "cell_type": "markdown",
   "id": "lasting-evolution",
   "metadata": {},
   "source": [
    "## Reordena Colunas"
   ]
  },
  {
   "cell_type": "code",
   "execution_count": null,
   "id": "cosmetic-williams",
   "metadata": {},
   "outputs": [],
   "source": [
    "# Reordena Colunas\n",
    "cols = df.columns.tolist()\n",
    "\n",
    "cols.sort()\n",
    "cols = cols[-2:] + cols[-9:-2] + cols[:-9]\n",
    "\n",
    "df = df.reindex(cols, axis=1)\n",
    "cols"
   ]
  },
  {
   "cell_type": "markdown",
   "id": "facial-ancient",
   "metadata": {},
   "source": [
    "## Salva"
   ]
  },
  {
   "cell_type": "code",
   "execution_count": null,
   "id": "medical-reasoning",
   "metadata": {},
   "outputs": [],
   "source": [
    "# Results\n",
    "df.to_csv(\n",
    "    os.path.join('data', 'tabs', 'tab_defesacivil.csv'),\n",
    "    index=False,\n",
    ")\n",
    "df"
   ]
  }
 ],
 "metadata": {
  "kernelspec": {
   "display_name": "Python [conda env:pablocarreira-py38] *",
   "language": "python",
   "name": "conda-env-pablocarreira-py38-py"
  },
  "language_info": {
   "codemirror_mode": {
    "name": "ipython",
    "version": 3
   },
   "file_extension": ".py",
   "mimetype": "text/x-python",
   "name": "python",
   "nbconvert_exporter": "python",
   "pygments_lexer": "ipython3",
   "version": "3.8.11"
  },
  "toc-autonumbering": true,
  "toc-showcode": false
 },
 "nbformat": 4,
 "nbformat_minor": 5
}

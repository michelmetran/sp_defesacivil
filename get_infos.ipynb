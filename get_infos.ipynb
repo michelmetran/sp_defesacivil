{
 "cells": [
  {
   "cell_type": "markdown",
   "id": "imposed-minneapolis",
   "metadata": {},
   "source": [
    "# Defesa Civil\n",
    "\n",
    "Por meio do [*site* da Defesa Civil](http://www.defesacivil.sp.gov.br/) (mais específicamente nesse [*link*](http://www.defesacivil.sp.gov.br/coordenadores-regionais-de-defesa-civil/)) foi possível obter diversas informações sobre os Coordenadores que atuam nas 'Coordenadorias Regionais de Proteção e Defesa Civil - REPDEC'.\n",
    "\n",
    "\n",
    "Indicações sobre a área de atuação de cada REPDEC foram obtidas em uma [Monografia](http://www.sidec.sp.gov.br/defesacivil/media/OSDownloads/1398863063_Monografia%20Cap%20PM%20Rudyard.pdf).\n",
    "\n",
    "Outros materiais que poderão ser explorados no futuro estão em: \n",
    "https://s2id.mi.gov.br/paginas/series/"
   ]
  },
  {
   "cell_type": "code",
   "execution_count": null,
   "id": "romance-tenant",
   "metadata": {},
   "outputs": [],
   "source": [
    "import os\n",
    "import re\n",
    "import time\n",
    "import random\n",
    "import requests\n",
    "import numpy as np\n",
    "import pandas as pd\n",
    "import geopandas as gpd\n",
    "\n",
    "from bs4 import BeautifulSoup\n",
    "from osgeo import gdal, osr\n",
    "from tqdm.notebook import trange, tqdm"
   ]
  },
  {
   "cell_type": "markdown",
   "id": "breeding-phenomenon",
   "metadata": {},
   "source": [
    "<br>\n",
    "\n",
    "## Informações do *Site*\n",
    "\n",
    "Iniciamente foi obtido o código fonte da paǵina, usando o *BeautifulSoup*."
   ]
  },
  {
   "cell_type": "code",
   "execution_count": null,
   "id": "floral-confidence",
   "metadata": {},
   "outputs": [],
   "source": [
    "url = 'http://www.defesacivil.sp.gov.br/coordenadores-regionais-de-defesa-civil/'\n",
    "r = requests.get(url)\n",
    "soup = BeautifulSoup(r.content, 'html.parser')\n",
    "tag = soup.find('div', {'id': 'content'}).text"
   ]
  },
  {
   "cell_type": "markdown",
   "id": "needed-begin",
   "metadata": {},
   "source": [
    "<br>\n",
    "\n",
    "## Ajuste da tabela\n",
    "\n",
    "A partir disso, montei uma lista com todos os valores que estavam na página e converti a lista em uma tabela. Adicionei uma coluna contendo o valor do índice quando, na linha da tabela, houvesse a palavra \"REPDEC e preenchi essa tabela."
   ]
  },
  {
   "cell_type": "code",
   "execution_count": null,
   "id": "pediatric-graduate",
   "metadata": {},
   "outputs": [],
   "source": [
    "list_main = []\n",
    "for i in str(tag).split('\\n'):\n",
    "    if i == '':\n",
    "        pass\n",
    "    else:\n",
    "        list_main.append(i)\n",
    "\n",
    "# Create Table\n",
    "df = pd.DataFrame({'data': list_main})\n",
    "\n",
    "# Define os marcos iniciais\n",
    "df['interval'] = df.apply(lambda x: x.name if 'REPDEC' in x['data'] else np.nan, axis=1)\n",
    "\n",
    "# Remove Espaços em Branco\n",
    "df['data'] = df.apply(lambda x: np.nan if x['data'] == '\\xa0' else x, axis=1)\n",
    "\n",
    "# Preenche Coluna\n",
    "df['interval']  = df['interval'].ffill()\n",
    "\n",
    "# Elimina Linhas com NaN\n",
    "df = df.dropna()\n",
    "\n",
    "# Result\n",
    "df.head(10)"
   ]
  },
  {
   "cell_type": "markdown",
   "id": "consecutive-paraguay",
   "metadata": {},
   "source": [
    "<br>\n",
    "\n",
    "Criei sub-listas, de tamanhos diferentes, para cada uma desses conjuntos, por meio desse índice e converti em uma tabela."
   ]
  },
  {
   "cell_type": "code",
   "execution_count": null,
   "id": "vanilla-reverse",
   "metadata": {},
   "outputs": [],
   "source": [
    "list_temps = []\n",
    "for i in list(set(df['interval'])):\n",
    "    df_temp = df[df['interval'] == i]\n",
    "    list_temp = list(df_temp['data'])\n",
    "    list_temps.append(list_temp)\n",
    "\n",
    "df = pd.DataFrame(\n",
    "    list_temps,\n",
    "    columns = [\n",
    "        'repdec',\n",
    "        'coord_regional_nome',\n",
    "        'coord_regional_mail',\n",
    "        'coord_regional_tel',\n",
    "        'coord_adj1_nome',\n",
    "        'coord_adj1_mail',\n",
    "        'coord_adj1_tel',\n",
    "        'coord_adj2_nome',\n",
    "        'coord_adj2_mail',\n",
    "        'coord_adj2_tel',\n",
    "        'coord_adj3_nome',\n",
    "        'coord_adj3_mail',\n",
    "        'coord_adj3_tel',\n",
    "        'coord_adj4_nome',\n",
    "        'coord_adj4_mail',\n",
    "        'coord_adj4_tel',\n",
    "        'coord_adj5_nome',\n",
    "        'coord_adj5_mail',\n",
    "        'coord_adj5_tel',\n",
    "        'coord_adj6_nome',\n",
    "        'coord_adj6_mail',\n",
    "        'coord_adj6_tel',\n",
    "        'coord_adj7_nome',\n",
    "        'coord_adj7_mail',\n",
    "        'coord_adj7_tel',\n",
    "    ])\n",
    "\n",
    "df.head()"
   ]
  },
  {
   "cell_type": "markdown",
   "id": "violent-labor",
   "metadata": {},
   "source": [
    "<br>\n",
    "\n",
    "Com a tabela bruta, passei a limpa-la, \"splitando\" os campos pelo caractere \":\", além de outras correções."
   ]
  },
  {
   "cell_type": "code",
   "execution_count": null,
   "id": "streaming-expression",
   "metadata": {},
   "outputs": [],
   "source": [
    "# Exceção: em uma célular há duas vezes o :\n",
    "df['coord_adj1_tel'] = df['coord_adj1_tel'].astype(str).apply(lambda x: x.replace('Ramal:', 'Ramal '))\n",
    "\n",
    "# Remove tudo que vem antes do :\n",
    "df = df.applymap(lambda x: x.split(':')[-1], na_action='ignore')\n",
    "\n",
    "# Divide Células em Duas Colunas\n",
    "df[['repdec_nome','repdec_cod']] = df['repdec'].str.split('–', expand=True)\n",
    "df[['del','repdec_cod']] = df['repdec'].str.split('/', expand=True)\n",
    "df.drop(['del', 'repdec'], axis=1, inplace=True, errors='ignore')\n",
    "\n",
    "# Results\n",
    "df.head()"
   ]
  },
  {
   "cell_type": "markdown",
   "id": "greatest-suicide",
   "metadata": {},
   "source": [
    "## Funções\n",
    "\n",
    "Funções para renomear campos"
   ]
  },
  {
   "cell_type": "code",
   "execution_count": null,
   "id": "rotary-scoop",
   "metadata": {},
   "outputs": [],
   "source": [
    "def rename_nome(x):\n",
    "    x = x.title()\n",
    "    x = x.strip()\n",
    "    dict_rename = {\n",
    "        # Encoding\n",
    "        '\\xa0': ' ',\n",
    "        '  '  : ' ',\n",
    "        \n",
    "        # Basics\n",
    "        ' Com '  : ' com ',\n",
    "        ' Sobre ': ' sobre ',\n",
    "        ' Da '   : ' da ',\n",
    "        ' De '   : ' de ',\n",
    "        ' Do '   : ' do ',\n",
    "        ' Das '  : ' das ',\n",
    "        ' Dos '  : ' dos ',\n",
    "        ' A '    : ' a ',\n",
    "        ' As '   : ' as ',\n",
    "        ' Ao '   : ' ao ',\n",
    "        ' Aos '  : ' aos ',\n",
    "        ' E '    : ' e ',\n",
    "        ' O '    : ' o ',\n",
    "        ' Os '   : ' os ',\n",
    "        \n",
    "        # Erros\n",
    "        '1ºten'  : '1º Ten',\n",
    "        \n",
    "        # Abreviações\n",
    "        'Subten ' : 'Subtenente ',\n",
    "        'Sub Ten' : 'Subtenente ',\n",
    "        'Cap '    : 'Capitão ',\n",
    "        'Ten '    : 'Tenente ',\n",
    "        'Maj '    : 'Major ',\n",
    "        'Cel '    : 'Coronel ',        \n",
    "        'Sgt '    : 'Sargento ',\n",
    "        ' Pm '    : ' PM ',\n",
    "\n",
    "        # Empty\n",
    "        'None' : '',\n",
    "        'none' : '',\n",
    "    }\n",
    "    for k, v in dict_rename.items():\n",
    "        x = x.replace(k, v)\n",
    "    x = x.replace('  ', ' ')\n",
    "    return x.strip()"
   ]
  },
  {
   "cell_type": "code",
   "execution_count": null,
   "id": "immune-nicaragua",
   "metadata": {},
   "outputs": [],
   "source": [
    "def rename_tel(x):\n",
    "    x = x.title()\n",
    "    x = x.strip()\n",
    "    dict_rename = {\n",
    "        # Encoding\n",
    "        '\\xa0': ' ',\n",
    "        '  '  : ' ',\n",
    "\n",
    "        # Basics\n",
    "        ' – ' : '-',\n",
    "        ')'   : ') ',\n",
    "        ' ('  : ' / (',\n",
    "        ' / ' : '/',\n",
    "        '//'  : '/',\n",
    "        '/'   : ' / ',\n",
    "        '  '  : ' ',\n",
    "        \n",
    "        # Empty\n",
    "        'None' : '',\n",
    "        'none' : '',\n",
    "    }\n",
    "    for k, v in dict_rename.items():\n",
    "        x = x.replace(k, v)\n",
    "    x = x.replace('  ', ' ')\n",
    "    return x.strip()"
   ]
  },
  {
   "cell_type": "code",
   "execution_count": null,
   "id": "owned-passport",
   "metadata": {},
   "outputs": [],
   "source": [
    "def rename_mail(x):\n",
    "    x = x.lower()\n",
    "    x = x.strip()\n",
    "    dict_rename = {\n",
    "        # Encoding\n",
    "        '\\xa0': ' ',\n",
    "        '  '  : ' ',\n",
    "        \n",
    "        # Basic\n",
    "        ' '   : '/',\n",
    "        ';'   : '/',\n",
    "        ','   : '/',\n",
    "        '//'  : '/',\n",
    "        '/'   : ' / ',\n",
    "        '  '  : ' ',\n",
    "        \n",
    "        # Empty\n",
    "        'None' : '',\n",
    "        'none' : '',\n",
    "    }\n",
    "    for k, v in dict_rename.items():\n",
    "        x = x.replace(k, v)\n",
    "    x = x.replace('  ', ' ')\n",
    "    return x.strip()"
   ]
  },
  {
   "cell_type": "markdown",
   "id": "contemporary-lancaster",
   "metadata": {},
   "source": [
    "## Renomeando Campos em Colunas"
   ]
  },
  {
   "cell_type": "code",
   "execution_count": null,
   "id": "million-elder",
   "metadata": {},
   "outputs": [],
   "source": [
    "# Definindo lista de colunas que serão empregadas funções.\n",
    "list_nome = []\n",
    "list_tel = []\n",
    "list_mail = []\n",
    "for col in list(df.columns):\n",
    "    if 'nome' in col:\n",
    "        list_nome.append(col)\n",
    "    if 'tel' in col:\n",
    "        list_tel.append(col)\n",
    "    if 'mail' in col:\n",
    "        list_mail.append(col)\n",
    "\n",
    "# Adicionando manualmente outras colunas.\n",
    "list_nome.append('repdec_nome')\n",
    "list_nome.append('repdec_cod')\n",
    "\n",
    "# Aplicando funções\n",
    "for field in list_nome:\n",
    "    df[field] = df[field].astype(str).apply(lambda x: rename_nome(x))\n",
    "for field in list_tel:    \n",
    "    df[field] = df[field].astype(str).apply(lambda x: rename_tel(x))\n",
    "for field in list_mail:    \n",
    "    df[field] = df[field].astype(str).apply(lambda x: rename_mail(x))"
   ]
  },
  {
   "cell_type": "markdown",
   "id": "expensive-period",
   "metadata": {},
   "source": [
    "<br>\n",
    "\n",
    "E, por fim, reordenando colunas."
   ]
  },
  {
   "cell_type": "code",
   "execution_count": null,
   "id": "subjective-rouge",
   "metadata": {},
   "outputs": [],
   "source": [
    "# ddd\n",
    "cols = df.columns.tolist()\n",
    "cols = cols[-2:] + cols[:-2]\n",
    "\n",
    "#\n",
    "df = df.reindex(cols, axis=1)\n",
    "\n",
    "# ddd\n",
    "df"
   ]
  },
  {
   "cell_type": "code",
   "execution_count": null,
   "id": "compatible-investigation",
   "metadata": {},
   "outputs": [],
   "source": [
    "# Results\n",
    "df.to_csv(\n",
    "    os.path.join('data', 'tabs', 'tab_defesacivil.csv'),    \n",
    "    index=False,\n",
    ")\n",
    "df"
   ]
  },
  {
   "cell_type": "markdown",
   "id": "dated-county",
   "metadata": {},
   "source": [
    "___\n",
    "\n",
    "# Encerramento"
   ]
  },
  {
   "cell_type": "markdown",
   "id": "accessible-minimum",
   "metadata": {},
   "source": [
    "## *Requirements*"
   ]
  },
  {
   "cell_type": "code",
   "execution_count": null,
   "id": "confident-western",
   "metadata": {},
   "outputs": [],
   "source": [
    "# Input\n",
    "inp = 'get_infos.ipynb'\n",
    "\n",
    "# Output\n",
    "out = os.path.join(inp.split('.')[0])\n",
    "!jupyter-nbconvert $inp --to python --output $out\n",
    "\n",
    "print('-'*80)\n",
    "!pipreqs '.' --force --debug\n",
    "\n",
    "print('-'*80)\n",
    "os.remove('{}.py'.format(out))\n",
    "print('Arquivo {}.py deletado com sucesso!'.format(out))"
   ]
  },
  {
   "cell_type": "markdown",
   "id": "imposed-graphics",
   "metadata": {},
   "source": [
    "## *GitHub*"
   ]
  },
  {
   "cell_type": "code",
   "execution_count": null,
   "id": "angry-settle",
   "metadata": {},
   "outputs": [],
   "source": [
    "!nbstripout --install --attributes .gitattributes\n",
    "!git status\n",
    "!git add .\n",
    "!git commit -m 'Arrumações Gerais'\n",
    "!git push origin main"
   ]
  }
 ],
 "metadata": {
  "kernelspec": {
   "display_name": "Python [conda env:pablocarreira-py38] *",
   "language": "python",
   "name": "conda-env-pablocarreira-py38-py"
  },
  "language_info": {
   "codemirror_mode": {
    "name": "ipython",
    "version": 3
   },
   "file_extension": ".py",
   "mimetype": "text/x-python",
   "name": "python",
   "nbconvert_exporter": "python",
   "pygments_lexer": "ipython3",
   "version": "3.8.6"
  },
  "toc-showcode": false
 },
 "nbformat": 4,
 "nbformat_minor": 5
}
